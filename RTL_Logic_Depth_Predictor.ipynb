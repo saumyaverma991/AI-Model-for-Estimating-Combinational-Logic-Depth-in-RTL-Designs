{
  "cells": [
    {
      "cell_type": "markdown",
      "metadata": {
        "id": "view-in-github",
        "colab_type": "text"
      },
      "source": [
        "<a href=\"https://colab.research.google.com/github/saumyaverma991/AI-Model-for-Estimating-Combinational-Logic-Depth-in-RTL-Designs/blob/main/RTL_Logic_Depth_Predictor.ipynb\" target=\"_parent\"><img src=\"https://colab.research.google.com/assets/colab-badge.svg\" alt=\"Open In Colab\"/></a>"
      ]
    },
    {
      "cell_type": "code",
      "execution_count": null,
      "metadata": {
        "colab": {
          "base_uri": "https://localhost:8080/"
        },
        "id": "_y-rSeCDSG16",
        "outputId": "50ef11b5-297c-4e45-faf1-9e574031af6c"
      },
      "outputs": [
        {
          "output_type": "stream",
          "name": "stdout",
          "text": [
            "Reading package lists... Done\n",
            "Building dependency tree... Done\n",
            "Reading state information... Done\n",
            "python3-dev is already the newest version (3.10.6-1~22.04.1).\n",
            "python3-dev set to manually installed.\n",
            "graphviz is already the newest version (2.42.2-6ubuntu0.1).\n",
            "The following additional packages will be installed:\n",
            "  libgail-common libgail18 libgtk2.0-0 libgtk2.0-bin libgtk2.0-common\n",
            "  libgvc6-plugins-gtk librsvg2-common libxdot4\n",
            "Suggested packages:\n",
            "  gvfs\n",
            "The following NEW packages will be installed:\n",
            "  libgail-common libgail18 libgraphviz-dev libgtk2.0-0 libgtk2.0-bin\n",
            "  libgtk2.0-common libgvc6-plugins-gtk librsvg2-common libxdot4\n",
            "0 upgraded, 9 newly installed, 0 to remove and 34 not upgraded.\n",
            "Need to get 2,434 kB of archives.\n",
            "After this operation, 7,681 kB of additional disk space will be used.\n",
            "Get:1 http://archive.ubuntu.com/ubuntu jammy-updates/main amd64 libgtk2.0-common all 2.24.33-2ubuntu2.1 [125 kB]\n",
            "Get:2 http://archive.ubuntu.com/ubuntu jammy-updates/main amd64 libgtk2.0-0 amd64 2.24.33-2ubuntu2.1 [2,038 kB]\n",
            "Get:3 http://archive.ubuntu.com/ubuntu jammy-updates/main amd64 libgail18 amd64 2.24.33-2ubuntu2.1 [15.9 kB]\n",
            "Get:4 http://archive.ubuntu.com/ubuntu jammy-updates/main amd64 libgail-common amd64 2.24.33-2ubuntu2.1 [132 kB]\n",
            "Get:5 http://archive.ubuntu.com/ubuntu jammy-updates/universe amd64 libxdot4 amd64 2.42.2-6ubuntu0.1 [16.4 kB]\n",
            "Get:6 http://archive.ubuntu.com/ubuntu jammy-updates/universe amd64 libgvc6-plugins-gtk amd64 2.42.2-6ubuntu0.1 [22.5 kB]\n",
            "Get:7 http://archive.ubuntu.com/ubuntu jammy-updates/universe amd64 libgraphviz-dev amd64 2.42.2-6ubuntu0.1 [58.5 kB]\n",
            "Get:8 http://archive.ubuntu.com/ubuntu jammy-updates/main amd64 libgtk2.0-bin amd64 2.24.33-2ubuntu2.1 [7,936 B]\n",
            "Get:9 http://archive.ubuntu.com/ubuntu jammy-updates/main amd64 librsvg2-common amd64 2.52.5+dfsg-3ubuntu0.2 [17.7 kB]\n",
            "Fetched 2,434 kB in 2s (1,384 kB/s)\n",
            "Selecting previously unselected package libgtk2.0-common.\n",
            "(Reading database ... 126333 files and directories currently installed.)\n",
            "Preparing to unpack .../0-libgtk2.0-common_2.24.33-2ubuntu2.1_all.deb ...\n",
            "Unpacking libgtk2.0-common (2.24.33-2ubuntu2.1) ...\n",
            "Selecting previously unselected package libgtk2.0-0:amd64.\n",
            "Preparing to unpack .../1-libgtk2.0-0_2.24.33-2ubuntu2.1_amd64.deb ...\n",
            "Unpacking libgtk2.0-0:amd64 (2.24.33-2ubuntu2.1) ...\n",
            "Selecting previously unselected package libgail18:amd64.\n",
            "Preparing to unpack .../2-libgail18_2.24.33-2ubuntu2.1_amd64.deb ...\n",
            "Unpacking libgail18:amd64 (2.24.33-2ubuntu2.1) ...\n",
            "Selecting previously unselected package libgail-common:amd64.\n",
            "Preparing to unpack .../3-libgail-common_2.24.33-2ubuntu2.1_amd64.deb ...\n",
            "Unpacking libgail-common:amd64 (2.24.33-2ubuntu2.1) ...\n",
            "Selecting previously unselected package libxdot4:amd64.\n",
            "Preparing to unpack .../4-libxdot4_2.42.2-6ubuntu0.1_amd64.deb ...\n",
            "Unpacking libxdot4:amd64 (2.42.2-6ubuntu0.1) ...\n",
            "Selecting previously unselected package libgvc6-plugins-gtk.\n",
            "Preparing to unpack .../5-libgvc6-plugins-gtk_2.42.2-6ubuntu0.1_amd64.deb ...\n",
            "Unpacking libgvc6-plugins-gtk (2.42.2-6ubuntu0.1) ...\n",
            "Selecting previously unselected package libgraphviz-dev:amd64.\n",
            "Preparing to unpack .../6-libgraphviz-dev_2.42.2-6ubuntu0.1_amd64.deb ...\n",
            "Unpacking libgraphviz-dev:amd64 (2.42.2-6ubuntu0.1) ...\n",
            "Selecting previously unselected package libgtk2.0-bin.\n",
            "Preparing to unpack .../7-libgtk2.0-bin_2.24.33-2ubuntu2.1_amd64.deb ...\n",
            "Unpacking libgtk2.0-bin (2.24.33-2ubuntu2.1) ...\n",
            "Selecting previously unselected package librsvg2-common:amd64.\n",
            "Preparing to unpack .../8-librsvg2-common_2.52.5+dfsg-3ubuntu0.2_amd64.deb ...\n",
            "Unpacking librsvg2-common:amd64 (2.52.5+dfsg-3ubuntu0.2) ...\n",
            "Setting up libxdot4:amd64 (2.42.2-6ubuntu0.1) ...\n",
            "Setting up librsvg2-common:amd64 (2.52.5+dfsg-3ubuntu0.2) ...\n",
            "Setting up libgtk2.0-common (2.24.33-2ubuntu2.1) ...\n",
            "Setting up libgtk2.0-0:amd64 (2.24.33-2ubuntu2.1) ...\n",
            "Setting up libgvc6-plugins-gtk (2.42.2-6ubuntu0.1) ...\n",
            "Setting up libgail18:amd64 (2.24.33-2ubuntu2.1) ...\n",
            "Setting up libgtk2.0-bin (2.24.33-2ubuntu2.1) ...\n",
            "Setting up libgail-common:amd64 (2.24.33-2ubuntu2.1) ...\n",
            "Setting up libgraphviz-dev:amd64 (2.42.2-6ubuntu0.1) ...\n",
            "Processing triggers for libc-bin (2.35-0ubuntu3.8) ...\n",
            "/sbin/ldconfig.real: /usr/local/lib/libtbbbind.so.3 is not a symbolic link\n",
            "\n",
            "/sbin/ldconfig.real: /usr/local/lib/libtbbbind_2_0.so.3 is not a symbolic link\n",
            "\n",
            "/sbin/ldconfig.real: /usr/local/lib/libur_adapter_opencl.so.0 is not a symbolic link\n",
            "\n",
            "/sbin/ldconfig.real: /usr/local/lib/libtbbbind_2_5.so.3 is not a symbolic link\n",
            "\n",
            "/sbin/ldconfig.real: /usr/local/lib/libtbbmalloc.so.2 is not a symbolic link\n",
            "\n",
            "/sbin/ldconfig.real: /usr/local/lib/libhwloc.so.15 is not a symbolic link\n",
            "\n",
            "/sbin/ldconfig.real: /usr/local/lib/libtcm_debug.so.1 is not a symbolic link\n",
            "\n",
            "/sbin/ldconfig.real: /usr/local/lib/libur_adapter_level_zero.so.0 is not a symbolic link\n",
            "\n",
            "/sbin/ldconfig.real: /usr/local/lib/libur_loader.so.0 is not a symbolic link\n",
            "\n",
            "/sbin/ldconfig.real: /usr/local/lib/libtbbmalloc_proxy.so.2 is not a symbolic link\n",
            "\n",
            "/sbin/ldconfig.real: /usr/local/lib/libtcm.so.1 is not a symbolic link\n",
            "\n",
            "/sbin/ldconfig.real: /usr/local/lib/libumf.so.0 is not a symbolic link\n",
            "\n",
            "/sbin/ldconfig.real: /usr/local/lib/libtbb.so.12 is not a symbolic link\n",
            "\n",
            "Processing triggers for man-db (2.10.2-1) ...\n",
            "Processing triggers for libgdk-pixbuf-2.0-0:amd64 (2.42.8+dfsg-1ubuntu0.3) ...\n",
            "Collecting pyverilog\n",
            "  Downloading pyverilog-1.3.0.tar.gz (136 kB)\n",
            "\u001b[2K     \u001b[90m━━━━━━━━━━━━━━━━━━━━━━━━━━━━━━━━━━━━━━━\u001b[0m \u001b[32m136.4/136.4 kB\u001b[0m \u001b[31m4.8 MB/s\u001b[0m eta \u001b[36m0:00:00\u001b[0m\n",
            "\u001b[?25h  Preparing metadata (setup.py) ... \u001b[?25l\u001b[?25hdone\n",
            "Requirement already satisfied: Jinja2>=2.10 in /usr/local/lib/python3.11/dist-packages (from pyverilog) (3.1.6)\n",
            "Requirement already satisfied: ply>=3.4 in /usr/local/lib/python3.11/dist-packages (from pyverilog) (3.11)\n",
            "Requirement already satisfied: MarkupSafe>=2.0 in /usr/local/lib/python3.11/dist-packages (from Jinja2>=2.10->pyverilog) (3.0.2)\n",
            "Building wheels for collected packages: pyverilog\n",
            "  Building wheel for pyverilog (setup.py) ... \u001b[?25l\u001b[?25hdone\n",
            "  Created wheel for pyverilog: filename=pyverilog-1.3.0-py3-none-any.whl size=118929 sha256=8d4be60136582b2b7950ca32b331b4e3c39e53874212a5273d6d48b16bf2f758\n",
            "  Stored in directory: /root/.cache/pip/wheels/e8/ba/6a/1068516e0581249663c83d9c7773bac1c20a8b35e6692dbf02\n",
            "Successfully built pyverilog\n",
            "Installing collected packages: pyverilog\n",
            "Successfully installed pyverilog-1.3.0\n"
          ]
        }
      ],
      "source": [
        "!apt-get install -y python3-dev graphviz libgraphviz-dev\n",
        "!pip install pyverilog"
      ]
    },
    {
      "cell_type": "code",
      "execution_count": null,
      "metadata": {
        "colab": {
          "base_uri": "https://localhost:8080/"
        },
        "id": "iwIja9DKWjUF",
        "outputId": "2389636a-b0cd-4cc2-b3f8-fc96197cd2ab"
      },
      "outputs": [
        {
          "output_type": "stream",
          "name": "stdout",
          "text": [
            "Reading package lists... Done\n",
            "Building dependency tree... Done\n",
            "Reading state information... Done\n",
            "Suggested packages:\n",
            "  gtkwave\n",
            "The following NEW packages will be installed:\n",
            "  iverilog\n",
            "0 upgraded, 1 newly installed, 0 to remove and 34 not upgraded.\n",
            "Need to get 2,130 kB of archives.\n",
            "After this operation, 6,749 kB of additional disk space will be used.\n",
            "Get:1 http://archive.ubuntu.com/ubuntu jammy/universe amd64 iverilog amd64 11.0-1.1 [2,130 kB]\n",
            "Fetched 2,130 kB in 1s (3,043 kB/s)\n",
            "Selecting previously unselected package iverilog.\n",
            "(Reading database ... 126484 files and directories currently installed.)\n",
            "Preparing to unpack .../iverilog_11.0-1.1_amd64.deb ...\n",
            "Unpacking iverilog (11.0-1.1) ...\n",
            "Setting up iverilog (11.0-1.1) ...\n",
            "Processing triggers for man-db (2.10.2-1) ...\n"
          ]
        }
      ],
      "source": [
        "!apt-get install -y iverilog"
      ]
    },
    {
      "cell_type": "code",
      "execution_count": null,
      "metadata": {
        "colab": {
          "base_uri": "https://localhost:8080/"
        },
        "id": "b7l8Q9iQSTGh",
        "outputId": "ab7ba989-3011-4ceb-bdae-eec67a39cab3"
      },
      "outputs": [
        {
          "output_type": "stream",
          "name": "stdout",
          "text": [
            "Mounted at /content/drive\n"
          ]
        }
      ],
      "source": [
        "from google.colab import drive\n",
        "drive.mount('/content/drive')"
      ]
    },
    {
      "cell_type": "code",
      "execution_count": null,
      "metadata": {
        "id": "FB4QezyMTXYB"
      },
      "outputs": [],
      "source": [
        "import os\n",
        "os.chdir('/content/drive/MyDrive/100DaysofRTL-main')"
      ]
    },
    {
      "cell_type": "code",
      "execution_count": null,
      "metadata": {
        "id": "Pb2_9P4ZawMB",
        "colab": {
          "base_uri": "https://localhost:8080/"
        },
        "outputId": "08a51a9b-a539-477a-f4b8-24103e0cefa8"
      },
      "outputs": [
        {
          "output_type": "stream",
          "name": "stdout",
          "text": [
            "\n",
            "🔍 Processing: ./100DaysofRTL-main/Day094- Synchronous LIFO (Last In First Out)/lifo.v\n"
          ]
        },
        {
          "output_type": "stream",
          "name": "stderr",
          "text": [
            "Generating LALR tables\n",
            "WARNING: 183 shift/reduce conflicts\n"
          ]
        },
        {
          "output_type": "stream",
          "name": "stdout",
          "text": [
            "  ✅ Found module: lifo\n",
            "\n",
            "🔍 Processing: ./100DaysofRTL-main/Day095- PWM (Pulse Width Modulation)/PWM.v\n"
          ]
        },
        {
          "output_type": "stream",
          "name": "stderr",
          "text": [
            "Generating LALR tables\n",
            "WARNING: 183 shift/reduce conflicts\n"
          ]
        },
        {
          "output_type": "stream",
          "name": "stdout",
          "text": [
            "  ✅ Found module: PWM\n",
            "\n",
            "🔍 Processing: ./100DaysofRTL-main/Day098- Sine Wave Generator/Day100- Serial Port Interface (SPI)/CODE/spi_state.v\n"
          ]
        },
        {
          "output_type": "stream",
          "name": "stderr",
          "text": [
            "Generating LALR tables\n",
            "WARNING: 183 shift/reduce conflicts\n"
          ]
        },
        {
          "output_type": "stream",
          "name": "stdout",
          "text": [
            "  ✅ Found module: spi_state\n",
            "\n",
            "🔍 Processing: ./100DaysofRTL-main/Day098- Sine Wave Generator/Day097- Car Parking Management System/car_parking_management_system.v\n"
          ]
        },
        {
          "output_type": "stream",
          "name": "stderr",
          "text": [
            "Generating LALR tables\n",
            "WARNING: 183 shift/reduce conflicts\n"
          ]
        },
        {
          "output_type": "stream",
          "name": "stdout",
          "text": [
            "  ✅ Found module: car_parking_management\n",
            "\n",
            "🔍 Processing: ./100DaysofRTL-main/Day098- Sine Wave Generator/CODE/mux.v\n"
          ]
        },
        {
          "output_type": "stream",
          "name": "stderr",
          "text": [
            "Generating LALR tables\n",
            "WARNING: 183 shift/reduce conflicts\n"
          ]
        },
        {
          "output_type": "stream",
          "name": "stdout",
          "text": [
            "  ✅ Found module: mux\n",
            "\n",
            "🔍 Processing: ./100DaysofRTL-main/Day098- Sine Wave Generator/CODE/mux_16.v\n"
          ]
        },
        {
          "output_type": "stream",
          "name": "stderr",
          "text": [
            "Generating LALR tables\n",
            "WARNING: 183 shift/reduce conflicts\n"
          ]
        },
        {
          "output_type": "stream",
          "name": "stdout",
          "text": [
            "  ✅ Found module: mux_16\n",
            "\n",
            "🔍 Processing: ./100DaysofRTL-main/Day098- Sine Wave Generator/CODE/sine_wave_generator.v\n"
          ]
        },
        {
          "output_type": "stream",
          "name": "stderr",
          "text": [
            "Generating LALR tables\n",
            "WARNING: 183 shift/reduce conflicts\n"
          ]
        },
        {
          "output_type": "stream",
          "name": "stdout",
          "text": [
            "  ✅ Found module: sine_wave_generator\n",
            "\n",
            "🔍 Processing: ./100DaysofRTL-main/Day098- Sine Wave Generator/CODE/mux_16_64.v\n"
          ]
        },
        {
          "output_type": "stream",
          "name": "stderr",
          "text": [
            "Generating LALR tables\n",
            "WARNING: 183 shift/reduce conflicts\n"
          ]
        },
        {
          "output_type": "stream",
          "name": "stdout",
          "text": [
            "  ✅ Found module: mux_16_64\n",
            "\n",
            "🔍 Processing: ./100DaysofRTL-main/Day098- Sine Wave Generator/CODE/mux_16_8.v\n"
          ]
        },
        {
          "output_type": "stream",
          "name": "stderr",
          "text": [
            "Generating LALR tables\n",
            "WARNING: 183 shift/reduce conflicts\n"
          ]
        },
        {
          "output_type": "stream",
          "name": "stdout",
          "text": [
            "  ✅ Found module: mux_16_8\n",
            "\n",
            "🔍 Processing: ./100DaysofRTL-main/Day092- Highest Common Factor (HCF)/HCF.v\n"
          ]
        },
        {
          "output_type": "stream",
          "name": "stderr",
          "text": [
            "Generating LALR tables\n",
            "WARNING: 183 shift/reduce conflicts\n"
          ]
        },
        {
          "output_type": "stream",
          "name": "stdout",
          "text": [
            "  ✅ Found module: HCF\n",
            "\n",
            "🔍 Processing: ./100DaysofRTL-main/Day091- Printing Star and Number Patterns/Star Pattern/CODE/PS1.v\n"
          ]
        },
        {
          "output_type": "stream",
          "name": "stderr",
          "text": [
            "Generating LALR tables\n",
            "WARNING: 183 shift/reduce conflicts\n"
          ]
        },
        {
          "output_type": "stream",
          "name": "stdout",
          "text": [
            "  ✅ Found module: star_pattern_1\n",
            "\n",
            "🔍 Processing: ./100DaysofRTL-main/Day091- Printing Star and Number Patterns/Star Pattern/CODE/PS2.v\n"
          ]
        },
        {
          "output_type": "stream",
          "name": "stderr",
          "text": [
            "Generating LALR tables\n",
            "WARNING: 183 shift/reduce conflicts\n"
          ]
        },
        {
          "output_type": "stream",
          "name": "stdout",
          "text": [
            "  ✅ Found module: star_pattern_2\n",
            "\n",
            "🔍 Processing: ./100DaysofRTL-main/Day091- Printing Star and Number Patterns/Number Pattern/CODE/PN1.v\n"
          ]
        },
        {
          "output_type": "stream",
          "name": "stderr",
          "text": [
            "Generating LALR tables\n",
            "WARNING: 183 shift/reduce conflicts\n"
          ]
        },
        {
          "output_type": "stream",
          "name": "stdout",
          "text": [
            "  ✅ Found module: number_pattern_1\n",
            "\n",
            "🔍 Processing: ./100DaysofRTL-main/Day091- Printing Star and Number Patterns/Number Pattern/CODE/PN3.v\n"
          ]
        },
        {
          "output_type": "stream",
          "name": "stderr",
          "text": [
            "Generating LALR tables\n",
            "WARNING: 183 shift/reduce conflicts\n"
          ]
        },
        {
          "output_type": "stream",
          "name": "stdout",
          "text": [
            "  ✅ Found module: number_pattern_3\n",
            "\n",
            "🔍 Processing: ./100DaysofRTL-main/Day091- Printing Star and Number Patterns/Number Pattern/CODE/PN2.v\n"
          ]
        },
        {
          "output_type": "stream",
          "name": "stderr",
          "text": [
            "Generating LALR tables\n",
            "WARNING: 183 shift/reduce conflicts\n"
          ]
        },
        {
          "output_type": "stream",
          "name": "stdout",
          "text": [
            "  ✅ Found module: number_pattern_2\n",
            "\n",
            "🔍 Processing: ./100DaysofRTL-main/Day091- Printing Star and Number Patterns/Number Pattern/CODE/PN4.v\n"
          ]
        },
        {
          "output_type": "stream",
          "name": "stderr",
          "text": [
            "Generating LALR tables\n",
            "WARNING: 183 shift/reduce conflicts\n"
          ]
        },
        {
          "output_type": "stream",
          "name": "stdout",
          "text": [
            "  ✅ Found module: number_pattern_4\n",
            "\n",
            "🔍 Processing: ./100DaysofRTL-main/Day099- Error Detection and Correction using Hamming Code Technique/CODE/hamming_encoder.v\n"
          ]
        },
        {
          "output_type": "stream",
          "name": "stderr",
          "text": [
            "Generating LALR tables\n",
            "WARNING: 183 shift/reduce conflicts\n"
          ]
        },
        {
          "output_type": "stream",
          "name": "stdout",
          "text": [
            "  ✅ Found module: hamming_encoder\n",
            "\n",
            "🔍 Processing: ./100DaysofRTL-main/Day099- Error Detection and Correction using Hamming Code Technique/CODE/hamming_decoder.v\n"
          ]
        },
        {
          "output_type": "stream",
          "name": "stderr",
          "text": [
            "Generating LALR tables\n",
            "WARNING: 183 shift/reduce conflicts\n"
          ]
        },
        {
          "output_type": "stream",
          "name": "stdout",
          "text": [
            "  ✅ Found module: hamming_decoder\n",
            "\n",
            "🔍 Processing: ./100DaysofRTL-main/Day093- Synchronous FIFO (First In First Out)/fifo.v\n"
          ]
        },
        {
          "output_type": "stream",
          "name": "stderr",
          "text": [
            "Generating LALR tables\n",
            "WARNING: 183 shift/reduce conflicts\n"
          ]
        },
        {
          "output_type": "stream",
          "name": "stdout",
          "text": [
            "  ✅ Found module: fifo\n",
            "\n",
            "🔍 Processing: ./100DaysofRTL-main/Day096- Vending Machine/vending_machine.v\n"
          ]
        },
        {
          "output_type": "stream",
          "name": "stderr",
          "text": [
            "Generating LALR tables\n",
            "WARNING: 183 shift/reduce conflicts\n"
          ]
        },
        {
          "output_type": "stream",
          "name": "stdout",
          "text": [
            "  ✅ Found module: vend\n",
            "\n",
            "🔍 Processing: ./100DaysofRTL-main/Day086- Checking if Number is a Pallindrome Number/Palindrome.v\n"
          ]
        },
        {
          "output_type": "stream",
          "name": "stderr",
          "text": [
            "Generating LALR tables\n",
            "WARNING: 183 shift/reduce conflicts\n"
          ]
        },
        {
          "output_type": "stream",
          "name": "stdout",
          "text": [
            "  ✅ Found module: Palindrome\n",
            "\n",
            "🔍 Processing: ./100DaysofRTL-main/Day083- Arithmetic Logic Unit (ALU)/ALU.v\n"
          ]
        },
        {
          "output_type": "stream",
          "name": "stderr",
          "text": [
            "Generating LALR tables\n",
            "WARNING: 183 shift/reduce conflicts\n"
          ]
        },
        {
          "output_type": "stream",
          "name": "stdout",
          "text": [
            "  ✅ Found module: ALU\n",
            "\n",
            "🔍 Processing: ./100DaysofRTL-main/Day084- Checking if Number is an Even or Odd Number/even_or_odd.v\n"
          ]
        },
        {
          "output_type": "stream",
          "name": "stderr",
          "text": [
            "Generating LALR tables\n",
            "WARNING: 183 shift/reduce conflicts\n"
          ]
        },
        {
          "output_type": "stream",
          "name": "stdout",
          "text": [
            "  ✅ Found module: even_or_odd\n",
            "\n",
            "🔍 Processing: ./100DaysofRTL-main/Day081- Dual-port RAM/dual_port_ram.v\n"
          ]
        },
        {
          "output_type": "stream",
          "name": "stderr",
          "text": [
            "Generating LALR tables\n",
            "WARNING: 183 shift/reduce conflicts\n"
          ]
        },
        {
          "output_type": "stream",
          "name": "stdout",
          "text": [
            "  ✅ Found module: dual_port_ram\n",
            "\n",
            "🔍 Processing: ./100DaysofRTL-main/Day080- Single-port RAM/single_port_ram.v\n"
          ]
        },
        {
          "output_type": "stream",
          "name": "stderr",
          "text": [
            "Generating LALR tables\n",
            "WARNING: 183 shift/reduce conflicts\n"
          ]
        },
        {
          "output_type": "stream",
          "name": "stdout",
          "text": [
            "  ✅ Found module: single_port_ram\n",
            "\n",
            "🔍 Processing: ./100DaysofRTL-main/Day079- Two sequence detector using FSM/fsm_101_0110.v\n"
          ]
        },
        {
          "output_type": "stream",
          "name": "stderr",
          "text": [
            "Generating LALR tables\n",
            "WARNING: 183 shift/reduce conflicts\n"
          ]
        },
        {
          "output_type": "stream",
          "name": "stdout",
          "text": [
            "  ✅ Found module: fsm_101_0110\n",
            "\n",
            "🔍 Processing: ./100DaysofRTL-main/Day082- ROM [15 x 15]/rom.v\n"
          ]
        },
        {
          "output_type": "stream",
          "name": "stderr",
          "text": [
            "Generating LALR tables\n",
            "WARNING: 183 shift/reduce conflicts\n"
          ]
        },
        {
          "output_type": "stream",
          "name": "stdout",
          "text": [
            "  ✅ Found module: rom\n",
            "\n",
            "🔍 Processing: ./100DaysofRTL-main/Day087- Checking if Number is an Armstrong Number/armstrong.v\n"
          ]
        },
        {
          "output_type": "stream",
          "name": "stderr",
          "text": [
            "Generating LALR tables\n",
            "WARNING: 183 shift/reduce conflicts\n"
          ]
        },
        {
          "output_type": "stream",
          "name": "stdout",
          "text": [
            "  ✅ Found module: armstrong\n",
            "\n",
            "🔍 Processing: ./100DaysofRTL-main/Day078- FSM Moore_Non-Overlapping/fsm_1011.v\n"
          ]
        },
        {
          "output_type": "stream",
          "name": "stderr",
          "text": [
            "Generating LALR tables\n",
            "WARNING: 183 shift/reduce conflicts\n"
          ]
        },
        {
          "output_type": "stream",
          "name": "stdout",
          "text": [
            "  ✅ Found module: fsm_1011\n",
            "\n",
            "🔍 Processing: ./100DaysofRTL-main/Day071- Frequency Divider {even}/freq_div_by4.v\n"
          ]
        },
        {
          "output_type": "stream",
          "name": "stderr",
          "text": [
            "Generating LALR tables\n",
            "WARNING: 183 shift/reduce conflicts\n"
          ]
        },
        {
          "output_type": "stream",
          "name": "stdout",
          "text": [
            "  ✅ Found module: D_flipflop\n",
            "  ✅ Found module: freq_div_by4\n",
            "\n",
            "🔍 Processing: ./100DaysofRTL-main/Day073- Frequency Divider {decimal}/Codes/freq_div_by1.5.v\n"
          ]
        },
        {
          "output_type": "stream",
          "name": "stderr",
          "text": [
            "Generating LALR tables\n",
            "WARNING: 183 shift/reduce conflicts\n"
          ]
        },
        {
          "output_type": "stream",
          "name": "stdout",
          "text": [
            "  ✅ Found module: freq_div\n",
            "\n",
            "🔍 Processing: ./100DaysofRTL-main/Day073- Frequency Divider {decimal}/Codes/freq_div_by3.v\n"
          ]
        },
        {
          "output_type": "stream",
          "name": "stderr",
          "text": [
            "Generating LALR tables\n",
            "WARNING: 183 shift/reduce conflicts\n"
          ]
        },
        {
          "output_type": "stream",
          "name": "stdout",
          "text": [
            "  ✅ Found module: mod_3_counter\n",
            "  ✅ Found module: D_flipflop\n",
            "  ✅ Found module: freq_div_by3\n",
            "\n",
            "🔍 Processing: ./100DaysofRTL-main/Day073- Frequency Divider {decimal}/Codes/dual_edge_trig_ff.v\n"
          ]
        },
        {
          "output_type": "stream",
          "name": "stderr",
          "text": [
            "Generating LALR tables\n",
            "WARNING: 183 shift/reduce conflicts\n"
          ]
        },
        {
          "output_type": "stream",
          "name": "stdout",
          "text": [
            "  ✅ Found module: dual_edge_trig_ff\n",
            "\n",
            "🔍 Processing: ./100DaysofRTL-main/Day076- FSM Mealy_Non-Overlapping/fsm_11001.v\n"
          ]
        },
        {
          "output_type": "stream",
          "name": "stderr",
          "text": [
            "Generating LALR tables\n",
            "WARNING: 183 shift/reduce conflicts\n"
          ]
        },
        {
          "output_type": "stream",
          "name": "stdout",
          "text": [
            "  ✅ Found module: fsm_11001\n",
            "\n",
            "🔍 Processing: ./100DaysofRTL-main/Day069- Clock Phasing/clock_phase.v\n"
          ]
        },
        {
          "output_type": "stream",
          "name": "stderr",
          "text": [
            "Generating LALR tables\n",
            "WARNING: 183 shift/reduce conflicts\n"
          ]
        },
        {
          "output_type": "stream",
          "name": "stdout",
          "text": [
            "  ✅ Found module: clk_phase\n",
            "\n",
            "🔍 Processing: ./100DaysofRTL-main/Day077- FSM Moore_Overlapping/fsm_1011.v\n"
          ]
        },
        {
          "output_type": "stream",
          "name": "stderr",
          "text": [
            "Generating LALR tables\n",
            "WARNING: 183 shift/reduce conflicts\n"
          ]
        },
        {
          "output_type": "stream",
          "name": "stdout",
          "text": [
            "  ✅ Found module: fsm_1011\n",
            "\n",
            "🔍 Processing: ./100DaysofRTL-main/Day072- Frequency Divider {odd}/freq_div_by5.v\n"
          ]
        },
        {
          "output_type": "stream",
          "name": "stderr",
          "text": [
            "Generating LALR tables\n",
            "WARNING: 183 shift/reduce conflicts\n"
          ]
        },
        {
          "output_type": "stream",
          "name": "stdout",
          "text": [
            "  ✅ Found module: mod_5_counter\n",
            "  ✅ Found module: D_flipflop\n",
            "  ✅ Found module: freq_div_by5\n",
            "\n",
            "🔍 Processing: ./100DaysofRTL-main/Day075- FSM Mealy_Overlapping/fsm_11001.v\n"
          ]
        },
        {
          "output_type": "stream",
          "name": "stderr",
          "text": [
            "Generating LALR tables\n",
            "WARNING: 183 shift/reduce conflicts\n"
          ]
        },
        {
          "output_type": "stream",
          "name": "stdout",
          "text": [
            "  ✅ Found module: fsm_11001\n",
            "\n",
            "🔍 Processing: ./100DaysofRTL-main/Day070- Clock Edge Detector/clk_edge_detector.v\n"
          ]
        },
        {
          "output_type": "stream",
          "name": "stderr",
          "text": [
            "Generating LALR tables\n",
            "WARNING: 183 shift/reduce conflicts\n"
          ]
        },
        {
          "output_type": "stream",
          "name": "stdout",
          "text": [
            "  ✅ Found module: clk_edge_detector\n",
            "\n",
            "🔍 Processing: ./100DaysofRTL-main/Day074- One-HOT FSM/one_hot_fsm.v\n"
          ]
        },
        {
          "output_type": "stream",
          "name": "stderr",
          "text": [
            "Generating LALR tables\n",
            "WARNING: 183 shift/reduce conflicts\n"
          ]
        },
        {
          "output_type": "stream",
          "name": "stdout",
          "text": [
            "  ✅ Found module: one_hot_fsm\n",
            "\n",
            "🔍 Processing: ./100DaysofRTL-main/Day066- Ring Counter/ring_counter.v\n"
          ]
        },
        {
          "output_type": "stream",
          "name": "stderr",
          "text": [
            "Generating LALR tables\n",
            "WARNING: 183 shift/reduce conflicts\n"
          ]
        },
        {
          "output_type": "stream",
          "name": "stdout",
          "text": [
            "  ✅ Found module: ring_counter\n",
            "\n",
            "🔍 Processing: ./100DaysofRTL-main/Day067- Johnson Couter/jhonson_counter.v\n"
          ]
        },
        {
          "output_type": "stream",
          "name": "stderr",
          "text": [
            "Generating LALR tables\n",
            "WARNING: 183 shift/reduce conflicts\n"
          ]
        },
        {
          "output_type": "stream",
          "name": "stdout",
          "text": [
            "  ✅ Found module: jhonson_counter\n",
            "\n",
            "🔍 Processing: ./100DaysofRTL-main/Day063- Mod-N Counter/mod_N_counter.v\n"
          ]
        },
        {
          "output_type": "stream",
          "name": "stderr",
          "text": [
            "Generating LALR tables\n",
            "WARNING: 183 shift/reduce conflicts\n"
          ]
        },
        {
          "output_type": "stream",
          "name": "stdout",
          "text": [
            "  ✅ Found module: mod_N_counter\n",
            "\n",
            "🔍 Processing: ./100DaysofRTL-main/Day061- Universal Shift Register/universal_shift_register.v\n"
          ]
        },
        {
          "output_type": "stream",
          "name": "stderr",
          "text": [
            "Generating LALR tables\n",
            "WARNING: 183 shift/reduce conflicts\n"
          ]
        },
        {
          "output_type": "stream",
          "name": "stdout",
          "text": [
            "  ✅ Found module: universal_shift_register\n",
            "\n",
            "🔍 Processing: ./100DaysofRTL-main/Day062- Barrel Shifter/barrel_shifter.v\n"
          ]
        },
        {
          "output_type": "stream",
          "name": "stderr",
          "text": [
            "Generating LALR tables\n",
            "WARNING: 183 shift/reduce conflicts\n"
          ]
        },
        {
          "output_type": "stream",
          "name": "stdout",
          "text": [
            "  ✅ Found module: mux_2_1\n",
            "  ✅ Found module: mux_4_1\n",
            "  ✅ Found module: mux_8_1\n",
            "  ✅ Found module: barrel_shifter\n",
            "\n",
            "🔍 Processing: ./100DaysofRTL-main/Day064- Specific Sequence Counter/sequence_counter.v\n"
          ]
        },
        {
          "output_type": "stream",
          "name": "stderr",
          "text": [
            "Generating LALR tables\n",
            "WARNING: 183 shift/reduce conflicts\n"
          ]
        },
        {
          "output_type": "stream",
          "name": "stdout",
          "text": [
            "  ✅ Found module: sequence_counter\n",
            "\n",
            "🔍 Processing: ./100DaysofRTL-main/Day059- Parallel in Parallel out (PIPO) Register/pipo.v\n"
          ]
        },
        {
          "output_type": "stream",
          "name": "stderr",
          "text": [
            "Generating LALR tables\n",
            "WARNING: 183 shift/reduce conflicts\n"
          ]
        },
        {
          "output_type": "stream",
          "name": "stdout",
          "text": [
            "  ✅ Found module: D_flipflop\n",
            "  ✅ Found module: pipo\n",
            "\n",
            "🔍 Processing: ./100DaysofRTL-main/Day065- UpDown Counter/up_down_counter.v\n"
          ]
        },
        {
          "output_type": "stream",
          "name": "stderr",
          "text": [
            "Generating LALR tables\n",
            "WARNING: 183 shift/reduce conflicts\n"
          ]
        },
        {
          "output_type": "stream",
          "name": "stdout",
          "text": [
            "  ✅ Found module: up_down_counter\n",
            "\n",
            "🔍 Processing: ./100DaysofRTL-main/Day060- Linear Feedback Shift Register (LFSR)/lfsr.v\n"
          ]
        },
        {
          "output_type": "stream",
          "name": "stderr",
          "text": [
            "Generating LALR tables\n",
            "WARNING: 183 shift/reduce conflicts\n"
          ]
        },
        {
          "output_type": "stream",
          "name": "stdout",
          "text": [
            "  ✅ Found module: lfsr\n",
            "\n",
            "🔍 Processing: ./100DaysofRTL-main/Day068- Gray Counter/gray_counter.v\n"
          ]
        },
        {
          "output_type": "stream",
          "name": "stderr",
          "text": [
            "Generating LALR tables\n",
            "WARNING: 183 shift/reduce conflicts\n"
          ]
        },
        {
          "output_type": "stream",
          "name": "stdout",
          "text": [
            "  ✅ Found module: gray_counter\n",
            "\n",
            "🔍 Processing: ./100DaysofRTL-main/Day058- Parallel in Serial out (PISO) Register/piso.v\n"
          ]
        },
        {
          "output_type": "stream",
          "name": "stderr",
          "text": [
            "Generating LALR tables\n",
            "WARNING: 183 shift/reduce conflicts\n"
          ]
        },
        {
          "output_type": "stream",
          "name": "stdout",
          "text": [
            "  ✅ Found module: piso\n",
            "\n",
            "🔍 Processing: ./100DaysofRTL-main/Day055- Dual Edge Triggered Flip Flop/dual_edge_trig_ff.v\n"
          ]
        },
        {
          "output_type": "stream",
          "name": "stderr",
          "text": [
            "Generating LALR tables\n",
            "WARNING: 183 shift/reduce conflicts\n"
          ]
        },
        {
          "output_type": "stream",
          "name": "stdout",
          "text": [
            "  ✅ Found module: dual_edge_trig_ff\n",
            "\n",
            "🔍 Processing: ./100DaysofRTL-main/Day051- SR flip flop using JK, D, T flip flops/Verilog code/T_flipflop.v\n"
          ]
        },
        {
          "output_type": "stream",
          "name": "stderr",
          "text": [
            "Generating LALR tables\n",
            "WARNING: 183 shift/reduce conflicts\n"
          ]
        },
        {
          "output_type": "stream",
          "name": "stdout",
          "text": [
            "  ✅ Found module: T_flipflop\n",
            "\n",
            "🔍 Processing: ./100DaysofRTL-main/Day051- SR flip flop using JK, D, T flip flops/Verilog code/JK_flipflop.v\n"
          ]
        },
        {
          "output_type": "stream",
          "name": "stderr",
          "text": [
            "Generating LALR tables\n",
            "WARNING: 183 shift/reduce conflicts\n"
          ]
        },
        {
          "output_type": "stream",
          "name": "stdout",
          "text": [
            "  ✅ Found module: JK_flipflop\n",
            "\n",
            "🔍 Processing: ./100DaysofRTL-main/Day051- SR flip flop using JK, D, T flip flops/Verilog code/SR_using_JK_D_T.v\n"
          ]
        },
        {
          "output_type": "stream",
          "name": "stderr",
          "text": [
            "Generating LALR tables\n",
            "WARNING: 183 shift/reduce conflicts\n"
          ]
        },
        {
          "output_type": "stream",
          "name": "stdout",
          "text": [
            "  ✅ Found module: SR_using_JK_D_T\n",
            "\n",
            "🔍 Processing: ./100DaysofRTL-main/Day051- SR flip flop using JK, D, T flip flops/Verilog code/D_flipflop.v\n"
          ]
        },
        {
          "output_type": "stream",
          "name": "stderr",
          "text": [
            "Generating LALR tables\n",
            "WARNING: 183 shift/reduce conflicts\n"
          ]
        },
        {
          "output_type": "stream",
          "name": "stdout",
          "text": [
            "  ✅ Found module: D_flipflop\n",
            "\n",
            "🔍 Processing: ./100DaysofRTL-main/Day054- T flip flop using SR, JK, D flip flops/Verilog code/D_flipflop.v\n"
          ]
        },
        {
          "output_type": "stream",
          "name": "stderr",
          "text": [
            "Generating LALR tables\n",
            "WARNING: 183 shift/reduce conflicts\n"
          ]
        },
        {
          "output_type": "stream",
          "name": "stdout",
          "text": [
            "  ✅ Found module: D_flipflop\n",
            "\n",
            "🔍 Processing: ./100DaysofRTL-main/Day054- T flip flop using SR, JK, D flip flops/Verilog code/T_using_SR_JK_D.v\n"
          ]
        },
        {
          "output_type": "stream",
          "name": "stderr",
          "text": [
            "Generating LALR tables\n",
            "WARNING: 183 shift/reduce conflicts\n"
          ]
        },
        {
          "output_type": "stream",
          "name": "stdout",
          "text": [
            "  ✅ Found module: T_using_SR_JK_D\n",
            "\n",
            "🔍 Processing: ./100DaysofRTL-main/Day054- T flip flop using SR, JK, D flip flops/Verilog code/SR_flipflop.v\n"
          ]
        },
        {
          "output_type": "stream",
          "name": "stderr",
          "text": [
            "Generating LALR tables\n",
            "WARNING: 183 shift/reduce conflicts\n"
          ]
        },
        {
          "output_type": "stream",
          "name": "stdout",
          "text": [
            "  ✅ Found module: SR_flipflop\n",
            "\n",
            "🔍 Processing: ./100DaysofRTL-main/Day054- T flip flop using SR, JK, D flip flops/Verilog code/JK_flipflop.v\n"
          ]
        },
        {
          "output_type": "stream",
          "name": "stderr",
          "text": [
            "Generating LALR tables\n",
            "WARNING: 183 shift/reduce conflicts\n"
          ]
        },
        {
          "output_type": "stream",
          "name": "stdout",
          "text": [
            "  ✅ Found module: JK_flipflop\n",
            "\n",
            "🔍 Processing: ./100DaysofRTL-main/Day053- D flip flop using SR, JK, T flip flops/Verilog code/D_using_SR_JK_T.v\n"
          ]
        },
        {
          "output_type": "stream",
          "name": "stderr",
          "text": [
            "Generating LALR tables\n",
            "WARNING: 183 shift/reduce conflicts\n"
          ]
        },
        {
          "output_type": "stream",
          "name": "stdout",
          "text": [
            "  ✅ Found module: D_using_SR_JK_T\n",
            "\n",
            "🔍 Processing: ./100DaysofRTL-main/Day053- D flip flop using SR, JK, T flip flops/Verilog code/JK_flipflop.v\n"
          ]
        },
        {
          "output_type": "stream",
          "name": "stderr",
          "text": [
            "Generating LALR tables\n",
            "WARNING: 183 shift/reduce conflicts\n"
          ]
        },
        {
          "output_type": "stream",
          "name": "stdout",
          "text": [
            "  ✅ Found module: JK_flipflop\n",
            "\n",
            "🔍 Processing: ./100DaysofRTL-main/Day053- D flip flop using SR, JK, T flip flops/Verilog code/SR_flipflop.v\n"
          ]
        },
        {
          "output_type": "stream",
          "name": "stderr",
          "text": [
            "Generating LALR tables\n",
            "WARNING: 183 shift/reduce conflicts\n"
          ]
        },
        {
          "output_type": "stream",
          "name": "stdout",
          "text": [
            "  ✅ Found module: SR_flipflop\n",
            "\n",
            "🔍 Processing: ./100DaysofRTL-main/Day053- D flip flop using SR, JK, T flip flops/Verilog code/T_flipflop.v\n"
          ]
        },
        {
          "output_type": "stream",
          "name": "stderr",
          "text": [
            "Generating LALR tables\n",
            "WARNING: 183 shift/reduce conflicts\n"
          ]
        },
        {
          "output_type": "stream",
          "name": "stdout",
          "text": [
            "  ✅ Found module: T_flipflop\n",
            "\n",
            "🔍 Processing: ./100DaysofRTL-main/Day056- Serial in Serial out (SISO) Register/siso.v\n"
          ]
        },
        {
          "output_type": "stream",
          "name": "stderr",
          "text": [
            "Generating LALR tables\n",
            "WARNING: 183 shift/reduce conflicts\n"
          ]
        },
        {
          "output_type": "stream",
          "name": "stdout",
          "text": [
            "  ✅ Found module: D_flipflop\n",
            "  ✅ Found module: siso\n",
            "\n",
            "🔍 Processing: ./100DaysofRTL-main/Day052- JK flip flop using SR, D, T flip flops/Verilog code/SR_flipflop.v\n"
          ]
        },
        {
          "output_type": "stream",
          "name": "stderr",
          "text": [
            "Generating LALR tables\n",
            "WARNING: 183 shift/reduce conflicts\n"
          ]
        },
        {
          "output_type": "stream",
          "name": "stdout",
          "text": [
            "  ✅ Found module: SR_flipflop\n",
            "\n",
            "🔍 Processing: ./100DaysofRTL-main/Day052- JK flip flop using SR, D, T flip flops/Verilog code/JK_using_SR_D_T.v\n"
          ]
        },
        {
          "output_type": "stream",
          "name": "stderr",
          "text": [
            "Generating LALR tables\n",
            "WARNING: 183 shift/reduce conflicts\n"
          ]
        },
        {
          "output_type": "stream",
          "name": "stdout",
          "text": [
            "  ✅ Found module: JK_using_SR_D_T\n",
            "\n",
            "🔍 Processing: ./100DaysofRTL-main/Day052- JK flip flop using SR, D, T flip flops/Verilog code/T_flipflop.v\n"
          ]
        },
        {
          "output_type": "stream",
          "name": "stderr",
          "text": [
            "Generating LALR tables\n",
            "WARNING: 183 shift/reduce conflicts\n"
          ]
        },
        {
          "output_type": "stream",
          "name": "stdout",
          "text": [
            "  ✅ Found module: T_flipflop\n",
            "\n",
            "🔍 Processing: ./100DaysofRTL-main/Day052- JK flip flop using SR, D, T flip flops/Verilog code/D_flipflop.v\n"
          ]
        },
        {
          "output_type": "stream",
          "name": "stderr",
          "text": [
            "Generating LALR tables\n",
            "WARNING: 183 shift/reduce conflicts\n"
          ]
        },
        {
          "output_type": "stream",
          "name": "stdout",
          "text": [
            "  ✅ Found module: D_flipflop\n",
            "\n",
            "🔍 Processing: ./100DaysofRTL-main/Day050- T Flip Flop/T_flipflop.v\n"
          ]
        },
        {
          "output_type": "stream",
          "name": "stderr",
          "text": [
            "Generating LALR tables\n",
            "WARNING: 183 shift/reduce conflicts\n"
          ]
        },
        {
          "output_type": "stream",
          "name": "stdout",
          "text": [
            "  ✅ Found module: T_flipflop\n",
            "\n",
            "🔍 Processing: ./100DaysofRTL-main/Day049- D Flip Flop/D_flipflop.v\n"
          ]
        },
        {
          "output_type": "stream",
          "name": "stderr",
          "text": [
            "Generating LALR tables\n",
            "WARNING: 183 shift/reduce conflicts\n"
          ]
        },
        {
          "output_type": "stream",
          "name": "stdout",
          "text": [
            "  ✅ Found module: D_flipflop\n",
            "\n",
            "🔍 Processing: ./100DaysofRTL-main/Day057- Serial in Parallel out (SIPO) Register/sipo.v\n"
          ]
        },
        {
          "output_type": "stream",
          "name": "stderr",
          "text": [
            "Generating LALR tables\n",
            "WARNING: 183 shift/reduce conflicts\n"
          ]
        },
        {
          "output_type": "stream",
          "name": "stdout",
          "text": [
            "  ✅ Found module: D_flipflop\n",
            "  ✅ Found module: sipo\n",
            "\n",
            "🔍 Processing: ./100DaysofRTL-main/Day041- BCD to Excess-3 code Converter/BCD2excess3.v\n"
          ]
        },
        {
          "output_type": "stream",
          "name": "stderr",
          "text": [
            "Generating LALR tables\n",
            "WARNING: 183 shift/reduce conflicts\n"
          ]
        },
        {
          "output_type": "stream",
          "name": "stdout",
          "text": [
            "  ✅ Found module: BCD2excess3\n",
            "\n",
            "🔍 Processing: ./100DaysofRTL-main/Day042- BCD to 7-Segment Converter/BCD_to_7segment.v\n"
          ]
        },
        {
          "output_type": "stream",
          "name": "stderr",
          "text": [
            "Generating LALR tables\n",
            "WARNING: 183 shift/reduce conflicts\n"
          ]
        },
        {
          "output_type": "stream",
          "name": "stdout",
          "text": [
            "  ✅ Found module: BCD_to_7segment\n",
            "\n",
            "🔍 Processing: ./100DaysofRTL-main/Day045- Vedic Multiplier [4×4] using [2×2]/vedic_mul_4_4.v\n"
          ]
        },
        {
          "output_type": "stream",
          "name": "stderr",
          "text": [
            "Generating LALR tables\n",
            "WARNING: 183 shift/reduce conflicts\n"
          ]
        },
        {
          "output_type": "stream",
          "name": "stdout",
          "text": [
            "  ✅ Found module: half_adder\n",
            "  ✅ Found module: vedic_mul_2_2\n",
            "  ✅ Found module: adder_4bit\n",
            "  ✅ Found module: adder_6bit\n",
            "  ✅ Found module: vedic_mul_4_4\n",
            "\n",
            "🔍 Processing: ./100DaysofRTL-main/Day044- Vedic Multiplier [2×2]/vedic_mul_2_2.v\n"
          ]
        },
        {
          "output_type": "stream",
          "name": "stderr",
          "text": [
            "Generating LALR tables\n",
            "WARNING: 183 shift/reduce conflicts\n"
          ]
        },
        {
          "output_type": "stream",
          "name": "stdout",
          "text": [
            "  ✅ Found module: half_adder\n",
            "  ✅ Found module: vedic_mul_2_2\n",
            "\n",
            "🔍 Processing: ./100DaysofRTL-main/Day047- SR Latch/SR_latch.v\n"
          ]
        },
        {
          "output_type": "stream",
          "name": "stderr",
          "text": [
            "Generating LALR tables\n",
            "WARNING: 183 shift/reduce conflicts\n"
          ]
        },
        {
          "output_type": "stream",
          "name": "stdout",
          "text": [
            "  ✅ Found module: SR_latch\n",
            "\n",
            "🔍 Processing: ./100DaysofRTL-main/Day040- Binary to BCD Converter/binary2bcd.v\n"
          ]
        },
        {
          "output_type": "stream",
          "name": "stderr",
          "text": [
            "Generating LALR tables\n",
            "WARNING: 183 shift/reduce conflicts\n"
          ]
        },
        {
          "output_type": "stream",
          "name": "stdout",
          "text": [
            "  ✅ Found module: binary2bcd\n",
            "\n",
            "🔍 Processing: ./100DaysofRTL-main/Day039- Binary to 2's Complement Converter/complement_2s.v\n"
          ]
        },
        {
          "output_type": "stream",
          "name": "stderr",
          "text": [
            "Generating LALR tables\n",
            "WARNING: 183 shift/reduce conflicts\n"
          ]
        },
        {
          "output_type": "stream",
          "name": "stdout",
          "text": [
            "  ✅ Found module: complement_2s\n",
            "\n",
            "🔍 Processing: ./100DaysofRTL-main/Day048- JK Flip Flop/JK_flipflop.v\n"
          ]
        },
        {
          "output_type": "stream",
          "name": "stderr",
          "text": [
            "Generating LALR tables\n",
            "WARNING: 183 shift/reduce conflicts\n"
          ]
        },
        {
          "output_type": "stream",
          "name": "stdout",
          "text": [
            "  ✅ Found module: JK_flipflop\n",
            "\n",
            "🔍 Processing: ./100DaysofRTL-main/Day046- Asynchronous and Synchronous Reset/synchronous_asynchronous_reset.v\n"
          ]
        },
        {
          "output_type": "stream",
          "name": "stderr",
          "text": [
            "Generating LALR tables\n",
            "WARNING: 183 shift/reduce conflicts\n"
          ]
        },
        {
          "output_type": "stream",
          "name": "stdout",
          "text": [
            "  ✅ Found module: synchronous_asynchronous_reset\n",
            "\n",
            "🔍 Processing: ./100DaysofRTL-main/Day043- Booth's Multiplication Algorithm/booth_algorithm.v\n"
          ]
        },
        {
          "output_type": "stream",
          "name": "stderr",
          "text": [
            "Generating LALR tables\n",
            "WARNING: 183 shift/reduce conflicts\n"
          ]
        },
        {
          "output_type": "stream",
          "name": "stdout",
          "text": [
            "  ✅ Found module: booth_algorithm\n",
            "\n",
            "🔍 Processing: ./100DaysofRTL-main/Day031- Decoder [3x8]/decoder_3_8.v\n"
          ]
        },
        {
          "output_type": "stream",
          "name": "stderr",
          "text": [
            "Generating LALR tables\n",
            "WARNING: 183 shift/reduce conflicts\n"
          ]
        },
        {
          "output_type": "stream",
          "name": "stdout",
          "text": [
            "  ✅ Found module: decoder_3_8\n",
            "\n",
            "🔍 Processing: ./100DaysofRTL-main/Day037- Binary to Gray code Converter/binary2gray.v\n"
          ]
        },
        {
          "output_type": "stream",
          "name": "stderr",
          "text": [
            "Generating LALR tables\n",
            "WARNING: 183 shift/reduce conflicts\n"
          ]
        },
        {
          "output_type": "stream",
          "name": "stdout",
          "text": [
            "  ✅ Found module: binary2gray\n",
            "\n",
            "🔍 Processing: ./100DaysofRTL-main/Day035- N bit number Square [N -- N^2]/n_bit_square.v\n"
          ]
        },
        {
          "output_type": "stream",
          "name": "stderr",
          "text": [
            "Generating LALR tables\n",
            "WARNING: 183 shift/reduce conflicts\n"
          ]
        },
        {
          "output_type": "stream",
          "name": "stdout",
          "text": [
            "  ✅ Found module: n_bit_square\n",
            "\n",
            "🔍 Processing: ./100DaysofRTL-main/Day034- Special Logic Gates using Decoder/decoder_xor_xnor.v\n"
          ]
        },
        {
          "output_type": "stream",
          "name": "stderr",
          "text": [
            "Generating LALR tables\n",
            "WARNING: 183 shift/reduce conflicts\n"
          ]
        },
        {
          "output_type": "stream",
          "name": "stdout",
          "text": [
            "  ✅ Found module: decoder_2_4\n",
            "  ✅ Found module: decoder_xor_xnor\n",
            "\n",
            "🔍 Processing: ./100DaysofRTL-main/Day036- Input Majority Circuit [7 input]/majority_input.v\n"
          ]
        },
        {
          "output_type": "stream",
          "name": "stderr",
          "text": [
            "Generating LALR tables\n",
            "WARNING: 183 shift/reduce conflicts\n"
          ]
        },
        {
          "output_type": "stream",
          "name": "stdout",
          "text": [
            "  ✅ Found module: majority_input\n",
            "\n",
            "🔍 Processing: ./100DaysofRTL-main/Day033- Universal Logic Gates using Decoder/NOR gate/decoder_nor.v\n"
          ]
        },
        {
          "output_type": "stream",
          "name": "stderr",
          "text": [
            "Generating LALR tables\n",
            "WARNING: 183 shift/reduce conflicts\n"
          ]
        },
        {
          "output_type": "stream",
          "name": "stdout",
          "text": [
            "  ✅ Found module: decoder_2_4\n",
            "  ✅ Found module: decoder_nor\n",
            "\n",
            "🔍 Processing: ./100DaysofRTL-main/Day033- Universal Logic Gates using Decoder/NAND gate/decoder_nand.v\n"
          ]
        },
        {
          "output_type": "stream",
          "name": "stderr",
          "text": [
            "Generating LALR tables\n",
            "WARNING: 183 shift/reduce conflicts\n"
          ]
        },
        {
          "output_type": "stream",
          "name": "stdout",
          "text": [
            "  ✅ Found module: decoder_2_4\n",
            "  ✅ Found module: decoder_nand\n",
            "\n",
            "🔍 Processing: ./100DaysofRTL-main/Day029- Encoder [8x3]/encoder_8_3.v\n"
          ]
        },
        {
          "output_type": "stream",
          "name": "stderr",
          "text": [
            "Generating LALR tables\n",
            "WARNING: 183 shift/reduce conflicts\n"
          ]
        },
        {
          "output_type": "stream",
          "name": "stdout",
          "text": [
            "  ✅ Found module: encoder_8_3\n",
            "\n",
            "🔍 Processing: ./100DaysofRTL-main/Day030- Priority Encoder/priority_encoder.v\n"
          ]
        },
        {
          "output_type": "stream",
          "name": "stderr",
          "text": [
            "Generating LALR tables\n",
            "WARNING: 183 shift/reduce conflicts\n"
          ]
        },
        {
          "output_type": "stream",
          "name": "stdout",
          "text": [
            "  ✅ Found module: priority_encoder\n",
            "\n",
            "🔍 Processing: ./100DaysofRTL-main/Day038- Gray code to Binary Converter/gray2binary.v\n"
          ]
        },
        {
          "output_type": "stream",
          "name": "stderr",
          "text": [
            "Generating LALR tables\n",
            "WARNING: 183 shift/reduce conflicts\n"
          ]
        },
        {
          "output_type": "stream",
          "name": "stdout",
          "text": [
            "  ✅ Found module: gray2binary\n",
            "\n",
            "🔍 Processing: ./100DaysofRTL-main/Day032- Basic Logic Gates using Decoder/OR gate/decoder_or.v\n"
          ]
        },
        {
          "output_type": "stream",
          "name": "stderr",
          "text": [
            "Generating LALR tables\n",
            "WARNING: 183 shift/reduce conflicts\n"
          ]
        },
        {
          "output_type": "stream",
          "name": "stdout",
          "text": [
            "  ✅ Found module: decoder_2_4\n",
            "  ✅ Found module: decoder_or\n",
            "\n",
            "🔍 Processing: ./100DaysofRTL-main/Day032- Basic Logic Gates using Decoder/NOT gate/decoder_not.v\n"
          ]
        },
        {
          "output_type": "stream",
          "name": "stderr",
          "text": [
            "Generating LALR tables\n",
            "WARNING: 183 shift/reduce conflicts\n"
          ]
        },
        {
          "output_type": "stream",
          "name": "stdout",
          "text": [
            "  ✅ Found module: decoder_2_4\n",
            "  ✅ Found module: decoder_not\n",
            "\n",
            "🔍 Processing: ./100DaysofRTL-main/Day032- Basic Logic Gates using Decoder/AND gate/decoder_and.v\n"
          ]
        },
        {
          "output_type": "stream",
          "name": "stderr",
          "text": [
            "Generating LALR tables\n",
            "WARNING: 183 shift/reduce conflicts\n"
          ]
        },
        {
          "output_type": "stream",
          "name": "stdout",
          "text": [
            "  ✅ Found module: decoder_2_4\n",
            "  ✅ Found module: decoder_and\n",
            "\n",
            "🔍 Processing: ./100DaysofRTL-main/Day028- Special Logic Gates using Dmux/demux_xor_xnor.v\n"
          ]
        },
        {
          "output_type": "stream",
          "name": "stderr",
          "text": [
            "Generating LALR tables\n",
            "WARNING: 183 shift/reduce conflicts\n"
          ]
        },
        {
          "output_type": "stream",
          "name": "stdout",
          "text": [
            "  ✅ Found module: demux_1_2\n",
            "  ✅ Found module: demux_xor_xnor\n",
            "\n",
            "🔍 Processing: ./100DaysofRTL-main/Day025- DeMultiplexer [1x8] using [1x2]/dmux_1_8.v\n"
          ]
        },
        {
          "output_type": "stream",
          "name": "stderr",
          "text": [
            "Generating LALR tables\n",
            "WARNING: 183 shift/reduce conflicts\n"
          ]
        },
        {
          "output_type": "stream",
          "name": "stdout",
          "text": [
            "  ✅ Found module: demux_2_1\n",
            "  ✅ Found module: dmux_1_8\n",
            "\n",
            "🔍 Processing: ./100DaysofRTL-main/Day021- Universal Logic Gates using Mux/gates_mux.v\n"
          ]
        },
        {
          "output_type": "stream",
          "name": "stderr",
          "text": [
            "Generating LALR tables\n",
            "WARNING: 183 shift/reduce conflicts\n"
          ]
        },
        {
          "output_type": "stream",
          "name": "stdout",
          "text": [
            "  ✅ Found module: mux_2_1\n",
            "  ✅ Found module: gates_mux\n",
            "\n",
            "🔍 Processing: ./100DaysofRTL-main/Day027- Universal Logic Gates using Dmux/NAND gate/demux_nand.v\n"
          ]
        },
        {
          "output_type": "stream",
          "name": "stderr",
          "text": [
            "Generating LALR tables\n",
            "WARNING: 183 shift/reduce conflicts\n"
          ]
        },
        {
          "output_type": "stream",
          "name": "stdout",
          "text": [
            "  ✅ Found module: demux_1_2\n",
            "  ✅ Found module: demux_nand\n",
            "\n",
            "🔍 Processing: ./100DaysofRTL-main/Day027- Universal Logic Gates using Dmux/NOR gate/demux_nor.v\n"
          ]
        },
        {
          "output_type": "stream",
          "name": "stderr",
          "text": [
            "Generating LALR tables\n",
            "WARNING: 183 shift/reduce conflicts\n"
          ]
        },
        {
          "output_type": "stream",
          "name": "stdout",
          "text": [
            "  ✅ Found module: demux_1_2\n",
            "  ✅ Found module: demux_nor\n",
            "\n",
            "🔍 Processing: ./100DaysofRTL-main/Day023- Full Adder using Mux/full_adder.v\n"
          ]
        },
        {
          "output_type": "stream",
          "name": "stderr",
          "text": [
            "Generating LALR tables\n",
            "WARNING: 183 shift/reduce conflicts\n"
          ]
        },
        {
          "output_type": "stream",
          "name": "stdout",
          "text": [
            "  ✅ Found module: mux2_1\n",
            "  ✅ Found module: full_adder\n",
            "\n",
            "🔍 Processing: ./100DaysofRTL-main/Day026- Basic Logic Gates using Dmux/AND gate/demux_and_gate.v\n"
          ]
        },
        {
          "output_type": "stream",
          "name": "stderr",
          "text": [
            "Generating LALR tables\n",
            "WARNING: 183 shift/reduce conflicts\n"
          ]
        },
        {
          "output_type": "stream",
          "name": "stdout",
          "text": [
            "  ✅ Found module: demux_1_2\n",
            "  ✅ Found module: demux_and_gate\n",
            "\n",
            "🔍 Processing: ./100DaysofRTL-main/Day026- Basic Logic Gates using Dmux/OR gate/demux_or_gate.v\n"
          ]
        },
        {
          "output_type": "stream",
          "name": "stderr",
          "text": [
            "Generating LALR tables\n",
            "WARNING: 183 shift/reduce conflicts\n"
          ]
        },
        {
          "output_type": "stream",
          "name": "stdout",
          "text": [
            "  ✅ Found module: demux_1_2\n",
            "  ✅ Found module: demux_or_gate\n",
            "\n",
            "🔍 Processing: ./100DaysofRTL-main/Day026- Basic Logic Gates using Dmux/NOT gate/demux_not_gate.v\n"
          ]
        },
        {
          "output_type": "stream",
          "name": "stderr",
          "text": [
            "Generating LALR tables\n",
            "WARNING: 183 shift/reduce conflicts\n"
          ]
        },
        {
          "output_type": "stream",
          "name": "stdout",
          "text": [
            "  ✅ Found module: demux_1_2\n",
            "  ✅ Found module: demux_not_gate\n",
            "\n",
            "🔍 Processing: ./100DaysofRTL-main/Day019- Multiplexer [4x1] using [2x1]/mux41using21.v\n"
          ]
        },
        {
          "output_type": "stream",
          "name": "stderr",
          "text": [
            "Generating LALR tables\n",
            "WARNING: 183 shift/reduce conflicts\n"
          ]
        },
        {
          "output_type": "stream",
          "name": "stdout",
          "text": [
            "  ✅ Found module: mux_2_1\n",
            "  ✅ Found module: mux_4_1\n",
            "\n",
            "🔍 Processing: ./100DaysofRTL-main/Day022- Special Logic Gates using Mux/gates_mux.v\n"
          ]
        },
        {
          "output_type": "stream",
          "name": "stderr",
          "text": [
            "Generating LALR tables\n",
            "WARNING: 183 shift/reduce conflicts\n"
          ]
        },
        {
          "output_type": "stream",
          "name": "stdout",
          "text": [
            "  ✅ Found module: mux_2_1\n",
            "  ✅ Found module: gates_mux\n",
            "\n",
            "🔍 Processing: ./100DaysofRTL-main/Day024- DeMultiplexer [1x2]/demux_1_2.v\n"
          ]
        },
        {
          "output_type": "stream",
          "name": "stderr",
          "text": [
            "Generating LALR tables\n",
            "WARNING: 183 shift/reduce conflicts\n"
          ]
        },
        {
          "output_type": "stream",
          "name": "stdout",
          "text": [
            "  ✅ Found module: demux_1_2\n",
            "\n",
            "🔍 Processing: ./100DaysofRTL-main/Day020- Basic Logic Gates using Mux/gates_mux.v\n"
          ]
        },
        {
          "output_type": "stream",
          "name": "stderr",
          "text": [
            "Generating LALR tables\n",
            "WARNING: 183 shift/reduce conflicts\n"
          ]
        },
        {
          "output_type": "stream",
          "name": "stdout",
          "text": [
            "  ✅ Found module: mux_2_1\n",
            "  ✅ Found module: gates_mux\n",
            "\n",
            "🔍 Processing: ./100DaysofRTL-main/Day013- Carry Select Adder/carry_select.v\n"
          ]
        },
        {
          "output_type": "stream",
          "name": "stderr",
          "text": [
            "Generating LALR tables\n",
            "WARNING: 183 shift/reduce conflicts\n"
          ]
        },
        {
          "output_type": "stream",
          "name": "stdout",
          "text": [
            "  ✅ Found module: full_adder\n",
            "  ✅ Found module: mux\n",
            "  ✅ Found module: carry_select\n",
            "\n",
            "🔍 Processing: ./100DaysofRTL-main/Day011- 4 bit Adder cum Subtractor/add_sub.v\n"
          ]
        },
        {
          "output_type": "stream",
          "name": "stderr",
          "text": [
            "Generating LALR tables\n",
            "WARNING: 183 shift/reduce conflicts\n"
          ]
        },
        {
          "output_type": "stream",
          "name": "stdout",
          "text": [
            "  ✅ Found module: full_adder\n",
            "  ✅ Found module: add_sub\n",
            "\n",
            "🔍 Processing: ./100DaysofRTL-main/Day016- 4 bit Divider/divide.v\n"
          ]
        },
        {
          "output_type": "stream",
          "name": "stderr",
          "text": [
            "Generating LALR tables\n",
            "WARNING: 183 shift/reduce conflicts\n"
          ]
        },
        {
          "output_type": "stream",
          "name": "stdout",
          "text": [
            "  ✅ Found module: divide\n",
            "\n",
            "🔍 Processing: ./100DaysofRTL-main/Day014- Carry Skip Adder/carry_skip_adder.v\n"
          ]
        },
        {
          "output_type": "stream",
          "name": "stderr",
          "text": [
            "Generating LALR tables\n",
            "WARNING: 183 shift/reduce conflicts\n"
          ]
        },
        {
          "output_type": "stream",
          "name": "stdout",
          "text": [
            "  ✅ Found module: full_adder\n",
            "  ✅ Found module: parallel_adder\n",
            "  ✅ Found module: carry_skip_adder\n",
            "\n",
            "🔍 Processing: ./100DaysofRTL-main/Day015- 4 bit Multiplier/multiplier.v\n"
          ]
        },
        {
          "output_type": "stream",
          "name": "stderr",
          "text": [
            "Generating LALR tables\n",
            "WARNING: 183 shift/reduce conflicts\n"
          ]
        },
        {
          "output_type": "stream",
          "name": "stdout",
          "text": [
            "  ✅ Found module: multiplier\n",
            "\n",
            "🔍 Processing: ./100DaysofRTL-main/Day018- Multiplexer [2x1]/mux_2_1.v\n"
          ]
        },
        {
          "output_type": "stream",
          "name": "stderr",
          "text": [
            "Generating LALR tables\n",
            "WARNING: 183 shift/reduce conflicts\n"
          ]
        },
        {
          "output_type": "stream",
          "name": "stdout",
          "text": [
            "  ✅ Found module: mux_2_1\n",
            "\n",
            "🔍 Processing: ./100DaysofRTL-main/Day009- Half Adder, Full Adder, Half Subtractor, Full Subtractor using Nand Gate/Verilog Code/fs_nand.v\n"
          ]
        },
        {
          "output_type": "stream",
          "name": "stderr",
          "text": [
            "Generating LALR tables\n",
            "WARNING: 183 shift/reduce conflicts\n"
          ]
        },
        {
          "output_type": "stream",
          "name": "stdout",
          "text": [
            "  ✅ Found module: fs_nand\n",
            "\n",
            "🔍 Processing: ./100DaysofRTL-main/Day009- Half Adder, Full Adder, Half Subtractor, Full Subtractor using Nand Gate/Verilog Code/fa_nand.v\n"
          ]
        },
        {
          "output_type": "stream",
          "name": "stderr",
          "text": [
            "Generating LALR tables\n",
            "WARNING: 183 shift/reduce conflicts\n"
          ]
        },
        {
          "output_type": "stream",
          "name": "stdout",
          "text": [
            "  ✅ Found module: fa_nand\n",
            "\n",
            "🔍 Processing: ./100DaysofRTL-main/Day009- Half Adder, Full Adder, Half Subtractor, Full Subtractor using Nand Gate/Verilog Code/ha_nand.v\n"
          ]
        },
        {
          "output_type": "stream",
          "name": "stderr",
          "text": [
            "Generating LALR tables\n",
            "WARNING: 183 shift/reduce conflicts\n"
          ]
        },
        {
          "output_type": "stream",
          "name": "stdout",
          "text": [
            "  ✅ Found module: ha_nand\n",
            "\n",
            "🔍 Processing: ./100DaysofRTL-main/Day009- Half Adder, Full Adder, Half Subtractor, Full Subtractor using Nand Gate/Verilog Code/hs_nand.v\n"
          ]
        },
        {
          "output_type": "stream",
          "name": "stderr",
          "text": [
            "Generating LALR tables\n",
            "WARNING: 183 shift/reduce conflicts\n"
          ]
        },
        {
          "output_type": "stream",
          "name": "stdout",
          "text": [
            "  ✅ Found module: hs_nand\n",
            "\n",
            "🔍 Processing: ./100DaysofRTL-main/Day010- 4 bit Parallel Adder/parallel_adder.v\n"
          ]
        },
        {
          "output_type": "stream",
          "name": "stderr",
          "text": [
            "Generating LALR tables\n",
            "WARNING: 183 shift/reduce conflicts\n"
          ]
        },
        {
          "output_type": "stream",
          "name": "stdout",
          "text": [
            "  ✅ Found module: full_adder\n",
            "  ✅ Found module: parallel_adder\n",
            "\n",
            "🔍 Processing: ./100DaysofRTL-main/Day007- Half Adder & Full Adder/Verilog Code/full_adder.v\n"
          ]
        },
        {
          "output_type": "stream",
          "name": "stderr",
          "text": [
            "Generating LALR tables\n",
            "WARNING: 183 shift/reduce conflicts\n"
          ]
        },
        {
          "output_type": "stream",
          "name": "stdout",
          "text": [
            "  ✅ Found module: full_adder\n",
            "\n",
            "🔍 Processing: ./100DaysofRTL-main/Day007- Half Adder & Full Adder/Verilog Code/half_adder.v\n"
          ]
        },
        {
          "output_type": "stream",
          "name": "stderr",
          "text": [
            "Generating LALR tables\n",
            "WARNING: 183 shift/reduce conflicts\n"
          ]
        },
        {
          "output_type": "stream",
          "name": "stdout",
          "text": [
            "  ✅ Found module: half_adder\n",
            "\n",
            "🔍 Processing: ./100DaysofRTL-main/Day002- Structral Modeling/logic_gates.v\n"
          ]
        },
        {
          "output_type": "stream",
          "name": "stderr",
          "text": [
            "Generating LALR tables\n",
            "WARNING: 183 shift/reduce conflicts\n"
          ]
        },
        {
          "output_type": "stream",
          "name": "stdout",
          "text": [
            "  ✅ Found module: logic_gates\n",
            "\n",
            "🔍 Processing: ./100DaysofRTL-main/Day008- Half Subtractor & Full Subtractor/Verilog code/half_subtractor.v\n"
          ]
        },
        {
          "output_type": "stream",
          "name": "stderr",
          "text": [
            "Generating LALR tables\n",
            "WARNING: 183 shift/reduce conflicts\n"
          ]
        },
        {
          "output_type": "stream",
          "name": "stdout",
          "text": [
            "  ✅ Found module: half_subtractor\n",
            "\n",
            "🔍 Processing: ./100DaysofRTL-main/Day008- Half Subtractor & Full Subtractor/Verilog code/full_subtractor.v\n"
          ]
        },
        {
          "output_type": "stream",
          "name": "stderr",
          "text": [
            "Generating LALR tables\n",
            "WARNING: 183 shift/reduce conflicts\n"
          ]
        },
        {
          "output_type": "stream",
          "name": "stdout",
          "text": [
            "  ✅ Found module: full_subtractor\n",
            "\n",
            "🔍 Processing: ./100DaysofRTL-main/Day003- Gate Modelimg/logic_gates.v\n"
          ]
        },
        {
          "output_type": "stream",
          "name": "stderr",
          "text": [
            "Generating LALR tables\n",
            "WARNING: 183 shift/reduce conflicts\n"
          ]
        },
        {
          "output_type": "stream",
          "name": "stdout",
          "text": [
            "  ✅ Found module: logic_gates\n",
            "\n",
            "🔍 Processing: ./100DaysofRTL-main/Day006- Even Parity Generator and Checker/Verilog Code/even_parity_checker.v\n"
          ]
        },
        {
          "output_type": "stream",
          "name": "stderr",
          "text": [
            "Generating LALR tables\n",
            "WARNING: 183 shift/reduce conflicts\n"
          ]
        },
        {
          "output_type": "stream",
          "name": "stdout",
          "text": [
            "  ✅ Found module: even_parity_checker\n",
            "\n",
            "🔍 Processing: ./100DaysofRTL-main/Day006- Even Parity Generator and Checker/Verilog Code/even_parity_generator.v\n"
          ]
        },
        {
          "output_type": "stream",
          "name": "stderr",
          "text": [
            "Generating LALR tables\n",
            "WARNING: 183 shift/reduce conflicts\n"
          ]
        },
        {
          "output_type": "stream",
          "name": "stdout",
          "text": [
            "  ✅ Found module: even_parity_generator\n",
            "\n",
            "🔍 Processing: ./100DaysofRTL-main/Day001- Behavioural Modeling/logic_gates.v\n"
          ]
        },
        {
          "output_type": "stream",
          "name": "stderr",
          "text": [
            "Generating LALR tables\n",
            "WARNING: 183 shift/reduce conflicts\n"
          ]
        },
        {
          "output_type": "stream",
          "name": "stdout",
          "text": [
            "  ✅ Found module: logic_gates\n",
            "\n",
            "--- SUMMARY ---\n",
            "🔢 Total files checked: 231\n",
            "✅ Parsed RTL modules: 168\n",
            "⏭️ Skipped testbenches: 103\n",
            "❌ Files with errors: 0\n"
          ]
        }
      ],
      "source": [
        "from pyverilog.vparser.parser import parse\n",
        "import os\n",
        "\n",
        "def extract_verilog_modules(directory):\n",
        "    total = 0\n",
        "    successful = 0\n",
        "    skipped = 0\n",
        "    errors = 0\n",
        "\n",
        "    for root, _, files in os.walk(directory):\n",
        "        for file in files:\n",
        "            if file.endswith(\".v\"):\n",
        "                filename_lower = file.lower()\n",
        "\n",
        "                # Skip testbenches or verification files\n",
        "                if \"tb\" in filename_lower or \"test\" in filename_lower or \"bench\" in filename_lower:\n",
        "                    skipped += 1\n",
        "                    continue\n",
        "\n",
        "                filepath = os.path.join(root, file)\n",
        "                total += 1\n",
        "                try:\n",
        "                    print(f\"\\n🔍 Processing: {filepath}\")\n",
        "                    ast, _ = parse([filepath])\n",
        "                    for desc in ast.description.definitions:\n",
        "                        print(f\"  ✅ Found module: {desc.name}\")\n",
        "                        successful += 1\n",
        "                except Exception as e:\n",
        "                    print(f\"  ⚠️ Error parsing {filepath}: {e}\")\n",
        "                    errors += 1\n",
        "\n",
        "    # Summary\n",
        "    print(\"\\n--- SUMMARY ---\")\n",
        "    print(f\"🔢 Total files checked: {total + skipped}\")\n",
        "    print(f\"✅ Parsed RTL modules: {successful}\")\n",
        "    print(f\"⏭️ Skipped testbenches: {skipped}\")\n",
        "    print(f\"❌ Files with errors: {errors}\")\n",
        "\n",
        "# Run this after os.chdir(\".\")\n",
        "extract_verilog_modules(\".\")"
      ]
    },
    {
      "cell_type": "code",
      "execution_count": null,
      "metadata": {
        "colab": {
          "base_uri": "https://localhost:8080/"
        },
        "id": "kVeNcc3jl5Rh",
        "outputId": "5fb540e5-bf75-4d3f-c0d2-44cf27ec8d96"
      },
      "outputs": [
        {
          "output_type": "stream",
          "name": "stdout",
          "text": [
            "Requirement already satisfied: pyverilog in /usr/local/lib/python3.11/dist-packages (1.3.0)\n",
            "Requirement already satisfied: Jinja2>=2.10 in /usr/local/lib/python3.11/dist-packages (from pyverilog) (3.1.6)\n",
            "Requirement already satisfied: ply>=3.4 in /usr/local/lib/python3.11/dist-packages (from pyverilog) (3.11)\n",
            "Requirement already satisfied: MarkupSafe>=2.0 in /usr/local/lib/python3.11/dist-packages (from Jinja2>=2.10->pyverilog) (3.0.2)\n"
          ]
        }
      ],
      "source": [
        "!pip install --upgrade pyverilog"
      ]
    },
    {
      "cell_type": "code",
      "source": [
        "import os\n",
        "os.chdir('/content/drive/MyDrive/100DaysofRTL-main')"
      ],
      "metadata": {
        "id": "LQuPhJ4nLZrI"
      },
      "execution_count": null,
      "outputs": []
    },
    {
      "cell_type": "markdown",
      "source": [
        "# **Updated**"
      ],
      "metadata": {
        "id": "Sz4hDtzwpAL5"
      }
    },
    {
      "cell_type": "code",
      "source": [
        "from pyverilog.vparser.parser import parse\n",
        "from pyverilog.ast_code_generator.codegen import ASTCodeGenerator\n",
        "from pyverilog.vparser.ast import *\n",
        "import os\n",
        "import networkx as nx\n",
        "\n",
        "def extract_signal_dependencies(ast):\n",
        "    graph = nx.DiGraph()\n",
        "    codegen = ASTCodeGenerator()\n",
        "\n",
        "    def walk(node, parent_signal=None):\n",
        "        if isinstance(node, ModuleDef):\n",
        "            for item in node.items:\n",
        "                walk(item)\n",
        "        elif isinstance(node, Always):\n",
        "            walk(node.statement)\n",
        "        elif isinstance(node, CaseStatement):\n",
        "            for case in node.caselist:\n",
        "                walk(case.statement)\n",
        "        elif isinstance(node, Block):\n",
        "            for stmt in node.statements:\n",
        "                walk(stmt)\n",
        "        elif isinstance(node, IfStatement):\n",
        "            walk(node.then_stmt)\n",
        "            if node.else_stmt is not None:\n",
        "                walk(node.else_stmt)\n",
        "        elif isinstance(node, (BlockingSubstitution, NonblockingSubstitution)):\n",
        "            lhs = codegen.visit(node.left)\n",
        "            rhs_signals = []\n",
        "\n",
        "            def collect_rhs_signals(rhs_node):\n",
        "                if isinstance(rhs_node, Identifier):\n",
        "                    rhs_signals.append(codegen.visit(rhs_node))\n",
        "                for c in rhs_node.children():\n",
        "                    collect_rhs_signals(c)\n",
        "\n",
        "            collect_rhs_signals(node.right)\n",
        "\n",
        "            for rs in rhs_signals:\n",
        "                graph.add_edge(rs, lhs)\n",
        "\n",
        "    for desc in ast.description.definitions:\n",
        "        if isinstance(desc, ModuleDef):\n",
        "            print(f\"📦 Module: {desc.name}\")\n",
        "            walk(desc)\n",
        "\n",
        "    return graph"
      ],
      "metadata": {
        "id": "NJ8Zg_7PM2-o"
      },
      "execution_count": null,
      "outputs": []
    },
    {
      "cell_type": "code",
      "source": [
        "import matplotlib.pyplot as plt\n",
        "\n",
        "def analyze_verilog_file(filepath):\n",
        "    print(f\"\\nBuilding graph from: {filepath}\")\n",
        "    ast, _ = parse([filepath])\n",
        "    graph = extract_signal_dependencies(ast)\n",
        "\n",
        "    print(f\"🧠 Signals in Graph: {list(graph.nodes)}\")\n",
        "    print(\"➡️ Signal Connections:\")\n",
        "    for u, v in graph.edges:\n",
        "        print(f\"  {u} → {v}\")\n",
        "\n",
        "    # Optional: Visualize\n",
        "    if len(graph) > 0:\n",
        "        plt.figure(figsize=(10, 6))\n",
        "        nx.draw(graph, with_labels=True, node_color='lightblue', edge_color='gray', node_size=2000, font_size=10)\n",
        "        plt.title(\"Signal Dependency Graph\")\n",
        "        plt.show()\n",
        "\n",
        "# Call this\n",
        "analyze_verilog_file(\"/content/drive/MyDrive/100DaysofRTL-main/100DaysofRTL-main/Day083- Arithmetic Logic Unit (ALU)/ALU.v\")"
      ],
      "metadata": {
        "colab": {
          "base_uri": "https://localhost:8080/",
          "height": 902
        },
        "id": "4rbsStPFM_ik",
        "outputId": "51b17c1b-0fd4-4f71-a4e5-734280ee7cef"
      },
      "execution_count": null,
      "outputs": [
        {
          "output_type": "stream",
          "name": "stdout",
          "text": [
            "\n",
            "Building graph from: /content/drive/MyDrive/100DaysofRTL-main/100DaysofRTL-main/Day083- Arithmetic Logic Unit (ALU)/ALU.v\n"
          ]
        },
        {
          "output_type": "stream",
          "name": "stderr",
          "text": [
            "Generating LALR tables\n",
            "WARNING: 183 shift/reduce conflicts\n"
          ]
        },
        {
          "output_type": "stream",
          "name": "stdout",
          "text": [
            "📦 Module: ALU\n",
            "🧠 Signals in Graph: ['a', '{ e_bit, result }', 'b', 'result', 'e_bit', 'result[0]', 'result[7]']\n",
            "➡️ Signal Connections:\n",
            "  a → { e_bit, result }\n",
            "  a → result\n",
            "  a → e_bit\n",
            "  b → { e_bit, result }\n",
            "  b → result\n",
            "  e_bit → result[0]\n",
            "  e_bit → result[7]\n"
          ]
        },
        {
          "output_type": "display_data",
          "data": {
            "text/plain": [
              "<Figure size 1000x600 with 1 Axes>"
            ],
            "image/png": "[encoded data removed]"
          },
          "metadata": {}
        }
      ]
    },
    {
      "cell_type": "code",
      "source": [
        "import matplotlib.pyplot as plt\n",
        "\n",
        "def analyze_verilog_file(filepath):\n",
        "    print(f\"\\nBuilding graph from: {filepath}\")\n",
        "    ast, _ = parse([filepath])\n",
        "    graph = extract_signal_dependencies(ast)  # graph is defined here\n",
        "\n",
        "    print(f\"🧠 Signals in Graph: {list(graph.nodes)}\")\n",
        "    print(\"➡️ Signal Connections:\")\n",
        "    for u, v in graph.edges:\n",
        "        print(f\"  {u} → {v}\")\n",
        "\n",
        "    # Optional: Visualize\n",
        "    if len(graph) > 0:\n",
        "        plt.figure(figsize=(10, 6))\n",
        "        nx.draw(graph, with_labels=True, node_color='lightblue', edge_color='gray', node_size=2000, font_size=10)\n",
        "        plt.title(\"Signal Dependency Graph\")\n",
        "        plt.show()\n",
        "\n",
        "    return graph  # Return the graph\n",
        "\n",
        "# Call analyze_verilog_file and store the returned graph\n",
        "graph = analyze_verilog_file(\"/content/drive/MyDrive/100DaysofRTL-main/100DaysofRTL-main/Day083- Arithmetic Logic Unit (ALU)/ALU.v\")\n",
        "\n",
        "def compute_max_logic_depth(graph):\n",
        "    try:\n",
        "        depths = {node: 0 for node in graph.nodes}\n",
        "        for node in nx.topological_sort(graph):\n",
        "            for succ in graph.successors(node):\n",
        "                depths[succ] = max(depths[succ], depths[node] + 1)\n",
        "        return depths\n",
        "    except nx.NetworkXUnfeasible:\n",
        "        print(\"❌ Graph has cycles; not a DAG.\")\n",
        "        return {}\n",
        "\n",
        "# Now you can call compute_max_logic_depth with the graph\n",
        "depths = compute_max_logic_depth(graph)\n",
        "for signal, depth in depths.items():\n",
        "    print(f\"🔢 Depth of {signal}: {depth}\")"
      ],
      "metadata": {
        "colab": {
          "base_uri": "https://localhost:8080/",
          "height": 1000
        },
        "id": "ljK_yzfXWLcl",
        "outputId": "18159e48-4064-45e7-bab4-d5ce5a684251"
      },
      "execution_count": null,
      "outputs": [
        {
          "output_type": "stream",
          "name": "stdout",
          "text": [
            "\n",
            "Building graph from: /content/drive/MyDrive/100DaysofRTL-main/100DaysofRTL-main/Day083- Arithmetic Logic Unit (ALU)/ALU.v\n"
          ]
        },
        {
          "output_type": "stream",
          "name": "stderr",
          "text": [
            "Generating LALR tables\n"
          ]
        },
        {
          "output_type": "stream",
          "name": "stdout",
          "text": [
            "📦 Module: ALU\n",
            "🧠 Signals in Graph: ['a', '{ e_bit, result }', 'b', 'result', 'e_bit', 'result[0]', 'result[7]']\n",
            "➡️ Signal Connections:\n",
            "  a → { e_bit, result }\n",
            "  a → result\n",
            "  a → e_bit\n",
            "  b → { e_bit, result }\n",
            "  b → result\n",
            "  e_bit → result[0]\n",
            "  e_bit → result[7]\n"
          ]
        },
        {
          "output_type": "stream",
          "name": "stderr",
          "text": [
            "WARNING: 183 shift/reduce conflicts\n"
          ]
        },
        {
          "output_type": "display_data",
          "data": {
            "text/plain": [
              "<Figure size 1000x600 with 1 Axes>"
            ],
            "image/png": "[encoded data removed]"
          },
          "metadata": {}
        },
        {
          "output_type": "stream",
          "name": "stdout",
          "text": [
            "🔢 Depth of a: 0\n",
            "🔢 Depth of { e_bit, result }: 1\n",
            "🔢 Depth of b: 0\n",
            "🔢 Depth of result: 1\n",
            "🔢 Depth of e_bit: 1\n",
            "🔢 Depth of result[0]: 2\n",
            "🔢 Depth of result[7]: 2\n"
          ]
        }
      ]
    },
    {
      "cell_type": "code",
      "source": [
        "from pyverilog.vparser.parser import parse\n",
        "from pyverilog.ast_code_generator.codegen import ASTCodeGenerator\n",
        "from pyverilog.vparser.ast import *\n",
        "import os\n",
        "import networkx as nx\n",
        "import matplotlib.pyplot as plt\n",
        "\n",
        "# --------- 1. Extract Signal Dependency Graph ---------\n",
        "def extract_signal_dependencies(ast):\n",
        "    graph = nx.DiGraph()\n",
        "    codegen = ASTCodeGenerator()\n",
        "\n",
        "    def walk(node):\n",
        "        if isinstance(node, ModuleDef):\n",
        "            for item in node.items:\n",
        "                walk(item)\n",
        "        elif isinstance(node, Always):\n",
        "            walk(node.statement)\n",
        "        elif isinstance(node, CaseStatement):\n",
        "            for case in node.caselist:\n",
        "                walk(case.statement)\n",
        "        elif isinstance(node, Block):\n",
        "            for stmt in node.statements:\n",
        "                walk(stmt)\n",
        "        elif isinstance(node, IfStatement):\n",
        "            walk(node.then_stmt)\n",
        "            if node.else_stmt is not None:\n",
        "                walk(node.else_stmt)\n",
        "        elif isinstance(node, (BlockingSubstitution, NonblockingSubstitution)):\n",
        "            # Handle concatenations separately\n",
        "            if isinstance(node.left, Concat):\n",
        "                lhs_signals = [codegen.visit(term) for term in node.left.list]\n",
        "            else:\n",
        "                lhs_signals = [codegen.visit(node.left)]\n",
        "\n",
        "            rhs_signals = []\n",
        "            gate_type = None  # Default if no gate type\n",
        "\n",
        "            def collect_rhs_signals(rhs_node):\n",
        "                nonlocal gate_type\n",
        "                if isinstance(rhs_node, Identifier):\n",
        "                    rhs_signals.append(codegen.visit(rhs_node))\n",
        "                elif isinstance(rhs_node, (Land, Lor, And, Or, Xor, Xnor)):\n",
        "                    gate_type = type(rhs_node).__name__  # Save the gate type\n",
        "                    for child in rhs_node.children():\n",
        "                        collect_rhs_signals(child)\n",
        "                else:\n",
        "                    for c in rhs_node.children():\n",
        "                        collect_rhs_signals(c)\n",
        "\n",
        "            collect_rhs_signals(node.right)\n",
        "\n",
        "            for lhs in lhs_signals:\n",
        "                for rs in rhs_signals:\n",
        "                    graph.add_edge(rs, lhs, gate=gate_type)\n",
        "\n",
        "    for desc in ast.description.definitions:\n",
        "        if isinstance(desc, ModuleDef):\n",
        "            print(f\"📦 Module: {desc.name}\")\n",
        "            walk(desc)\n",
        "\n",
        "    return graph\n",
        "\n",
        "# --------- 2. Analyze and Visualize the Graph ---------\n",
        "def analyze_verilog_file(filepath):\n",
        "    print(f\"\\nBuilding graph from: {filepath}\")\n",
        "    ast, _ = parse([filepath])\n",
        "    graph = extract_signal_dependencies(ast)\n",
        "\n",
        "    print(f\"🧠 Signals in Graph: {list(graph.nodes)}\")\n",
        "    print(\"➡️ Signal Connections:\")\n",
        "    for u, v in graph.edges:\n",
        "        gate = graph.edges[u, v].get('gate', None)\n",
        "        if gate:\n",
        "            print(f\"  {u} --[{gate}]--> {v}\")\n",
        "        else:\n",
        "            print(f\"  {u} → {v}\")\n",
        "\n",
        "    # Optional: Visualize\n",
        "    if len(graph) > 0:\n",
        "        color_map = []\n",
        "        for node in graph.nodes:\n",
        "            if graph.in_degree(node) == 0:\n",
        "                color_map.append('lightgreen')  # Primary input\n",
        "            elif graph.out_degree(node) == 0:\n",
        "                color_map.append('lightcoral')  # Primary output\n",
        "            else:\n",
        "                color_map.append('lightblue')   # Internal node\n",
        "\n",
        "        plt.figure(figsize=(12, 8))\n",
        "        pos = nx.spring_layout(graph, seed=42)\n",
        "        nx.draw(graph, pos, with_labels=True, node_color=color_map, edge_color='gray',\n",
        "                node_size=2000, font_size=10, arrowsize=20)\n",
        "\n",
        "        # Draw edge labels with gate type\n",
        "        edge_labels = {(u, v): graph.edges[u, v].get('gate', '') for u, v in graph.edges if graph.edges[u, v].get('gate', '')}\n",
        "        nx.draw_networkx_edge_labels(graph, pos, edge_labels=edge_labels, font_size=8)\n",
        "\n",
        "        plt.title(\"Signal Dependency Graph (Enhanced)\")\n",
        "        plt.show()\n",
        "\n",
        "    return graph\n",
        "\n",
        "# --------- 3. Compute Max Logic Depth ---------\n",
        "def compute_max_logic_depth(graph):\n",
        "    try:\n",
        "        depths = {node: 0 for node in graph.nodes}\n",
        "        for node in nx.topological_sort(graph):\n",
        "            for succ in graph.successors(node):\n",
        "                depths[succ] = max(depths[succ], depths[node] + 1)\n",
        "        return depths\n",
        "    except nx.NetworkXUnfeasible:\n",
        "        print(\"❌ Graph has cycles; not a DAG.\")\n",
        "        return {}\n",
        "\n",
        "# --------- 4. Example Usage ---------\n",
        "# Replace this path with your Verilog file path\n",
        "verilog_file_path = \"/content/drive/MyDrive/100DaysofRTL-main/100DaysofRTL-main/Day083- Arithmetic Logic Unit (ALU)/ALU.v\"\n",
        "\n",
        "# Build and analyze the graph\n",
        "graph = analyze_verilog_file(verilog_file_path)\n",
        "\n",
        "# Compute logic depths\n",
        "depths = compute_max_logic_depth(graph)\n",
        "print(\"\\n🔢 Signal Depths:\")\n",
        "for signal, depth in depths.items():\n",
        "    print(f\"{signal}: {depth}\")"
      ],
      "metadata": {
        "colab": {
          "base_uri": "https://localhost:8080/",
          "height": 1000
        },
        "id": "A0HdT00FNBwV",
        "outputId": "14ed30c0-fe01-4e4f-abd9-02536a3f1092"
      },
      "execution_count": null,
      "outputs": [
        {
          "output_type": "stream",
          "name": "stdout",
          "text": [
            "\n",
            "Building graph from: /content/drive/MyDrive/100DaysofRTL-main/100DaysofRTL-main/Day083- Arithmetic Logic Unit (ALU)/ALU.v\n"
          ]
        },
        {
          "output_type": "stream",
          "name": "stderr",
          "text": [
            "Generating LALR tables\n"
          ]
        },
        {
          "output_type": "stream",
          "name": "stdout",
          "text": [
            "📦 Module: ALU\n",
            "🧠 Signals in Graph: ['a', '{ e_bit, result }', 'b', 'result', 'e_bit', 'result[0]', 'result[7]']\n",
            "➡️ Signal Connections:\n",
            "  a → { e_bit, result }\n",
            "  a → result\n",
            "  a → e_bit\n",
            "  b → { e_bit, result }\n",
            "  b → result\n",
            "  e_bit → result[0]\n",
            "  e_bit → result[7]\n"
          ]
        },
        {
          "output_type": "stream",
          "name": "stderr",
          "text": [
            "WARNING: 183 shift/reduce conflicts\n"
          ]
        },
        {
          "output_type": "display_data",
          "data": {
            "text/plain": [
              "<Figure size 1200x800 with 1 Axes>"
            ],
            "image/png": "[encoded data removed]"
          },
          "metadata": {}
        },
        {
          "output_type": "stream",
          "name": "stdout",
          "text": [
            "\n",
            "🔢 Signal Depths:\n",
            "a: 0\n",
            "{ e_bit, result }: 1\n",
            "b: 0\n",
            "result: 1\n",
            "e_bit: 1\n",
            "result[0]: 2\n",
            "result[7]: 2\n"
          ]
        }
      ]
    },
    {
      "cell_type": "markdown",
      "source": [
        "## **Updated 1**"
      ],
      "metadata": {
        "id": "qeWZ6VUqS49t"
      }
    },
    {
      "cell_type": "code",
      "source": [
        "from pyverilog.vparser.parser import parse\n",
        "from pyverilog.ast_code_generator.codegen import ASTCodeGenerator\n",
        "from pyverilog.vparser.ast import *\n",
        "import os\n",
        "import networkx as nx\n",
        "import pandas as pd\n",
        "\n",
        "# -------- 1. Extract Signal Graph from AST --------\n",
        "def extract_signal_dependencies(ast):\n",
        "    graph = nx.DiGraph()\n",
        "    codegen = ASTCodeGenerator()\n",
        "\n",
        "    def walk(node):\n",
        "        if isinstance(node, ModuleDef):\n",
        "            for item in node.items:\n",
        "                walk(item)\n",
        "        elif isinstance(node, Always):\n",
        "            walk(node.statement)\n",
        "        elif isinstance(node, CaseStatement):\n",
        "            for case in node.caselist:\n",
        "                walk(case.statement)\n",
        "        elif isinstance(node, Block):\n",
        "            for stmt in node.statements:\n",
        "                walk(stmt)\n",
        "        elif isinstance(node, IfStatement):\n",
        "            walk(node.then_stmt)\n",
        "            if node.else_stmt is not None:\n",
        "                walk(node.else_stmt)\n",
        "        elif isinstance(node, (BlockingSubstitution, NonblockingSubstitution)):\n",
        "            lhs = codegen.visit(node.left)\n",
        "            rhs_signals = []\n",
        "\n",
        "            def collect_rhs_signals(rhs_node):\n",
        "                if isinstance(rhs_node, Identifier):\n",
        "                    rhs_signals.append(codegen.visit(rhs_node))\n",
        "                for c in rhs_node.children():\n",
        "                    collect_rhs_signals(c)\n",
        "\n",
        "            collect_rhs_signals(node.right)\n",
        "\n",
        "            for rs in rhs_signals:\n",
        "                graph.add_edge(rs, lhs)\n",
        "\n",
        "    for desc in ast.description.definitions:\n",
        "        if isinstance(desc, ModuleDef):\n",
        "            walk(desc)\n",
        "\n",
        "    return graph\n",
        "\n",
        "# -------- 2. Compute Depths --------\n",
        "def compute_max_logic_depth(graph):\n",
        "    try:\n",
        "        depths = {node: 0 for node in graph.nodes}\n",
        "        for node in nx.topological_sort(graph):\n",
        "            for succ in graph.successors(node):\n",
        "                depths[succ] = max(depths[succ], depths[node] + 1)\n",
        "        return depths\n",
        "    except nx.NetworkXUnfeasible:\n",
        "        print(\"❌ Graph has cycles; not a DAG.\")\n",
        "        return {}\n",
        "\n",
        "# -------- 3. Create Features from Graph --------\n",
        "def create_signal_dataset(graph, depths, source_file):\n",
        "    data = []\n",
        "\n",
        "    for node in graph.nodes:\n",
        "        fanin = graph.in_degree(node)\n",
        "        fanout = graph.out_degree(node)\n",
        "        is_input = 1 if fanin == 0 else 0\n",
        "        is_output = 1 if fanout == 0 else 0\n",
        "        depth = depths.get(node, 0)\n",
        "\n",
        "        data.append({\n",
        "            \"signal\": node,\n",
        "            \"fanin\": fanin,\n",
        "            \"fanout\": fanout,\n",
        "            \"is_input\": is_input,\n",
        "            \"is_output\": is_output,\n",
        "            \"depth\": depth,\n",
        "            \"source_file\": source_file\n",
        "        })\n",
        "\n",
        "    return pd.DataFrame(data)"
      ],
      "metadata": {
        "id": "gqqc9ydC4CNS"
      },
      "execution_count": null,
      "outputs": []
    },
    {
      "cell_type": "code",
      "source": [
        "# -------- 4. Loop Through Dataset --------\n",
        "root_dir = \"/content/drive/MyDrive/100DaysofRTL-main/100DaysofRTL-main\"\n",
        "master_df = pd.DataFrame()\n",
        "\n",
        "for subdir, _, files in os.walk(root_dir):\n",
        "    for file in files:\n",
        "        if file.endswith(\".v\"):\n",
        "            filepath = os.path.join(subdir, file)\n",
        "            filename_lower = file.lower()\n",
        "\n",
        "            # Skip testbenches\n",
        "            if \"tb\" in filename_lower or \"test\" in filename_lower or \"bench\" in filename_lower:\n",
        "                continue\n",
        "\n",
        "            try:\n",
        "                print(f\"📂 Parsing: {filepath}\")\n",
        "                ast, _ = parse([filepath])\n",
        "                graph = extract_signal_dependencies(ast)\n",
        "                depths = compute_max_logic_depth(graph)\n",
        "                df = create_signal_dataset(graph, depths, file)\n",
        "                master_df = pd.concat([master_df, df], ignore_index=True)\n",
        "            except Exception as e:\n",
        "                print(f\"⚠️ Skipped {filepath} due to error: {e}\")"
      ],
      "metadata": {
        "colab": {
          "base_uri": "https://localhost:8080/"
        },
        "id": "Rusah3RV4xuG",
        "outputId": "de24076c-86ea-4ff8-a6d9-e5e78ba1e451"
      },
      "execution_count": null,
      "outputs": [
        {
          "output_type": "stream",
          "name": "stdout",
          "text": [
            "📂 Parsing: /content/drive/MyDrive/100DaysofRTL-main/100DaysofRTL-main/Day094- Synchronous LIFO (Last In First Out)/lifo.v\n"
          ]
        },
        {
          "output_type": "stream",
          "name": "stderr",
          "text": [
            "Generating LALR tables\n",
            "WARNING: 183 shift/reduce conflicts\n"
          ]
        },
        {
          "output_type": "stream",
          "name": "stdout",
          "text": [
            "⚠️ Skipped /content/drive/MyDrive/100DaysofRTL-main/100DaysofRTL-main/Day094- Synchronous LIFO (Last In First Out)/lifo.v due to error: 'IfStatement' object has no attribute 'then_stmt'\n",
            "📂 Parsing: /content/drive/MyDrive/100DaysofRTL-main/100DaysofRTL-main/Day095- PWM (Pulse Width Modulation)/PWM.v\n"
          ]
        },
        {
          "output_type": "stream",
          "name": "stderr",
          "text": [
            "Generating LALR tables\n",
            "WARNING: 183 shift/reduce conflicts\n"
          ]
        },
        {
          "output_type": "stream",
          "name": "stdout",
          "text": [
            "⚠️ Skipped /content/drive/MyDrive/100DaysofRTL-main/100DaysofRTL-main/Day095- PWM (Pulse Width Modulation)/PWM.v due to error: 'IfStatement' object has no attribute 'then_stmt'\n",
            "📂 Parsing: /content/drive/MyDrive/100DaysofRTL-main/100DaysofRTL-main/Day098- Sine Wave Generator/Day100- Serial Port Interface (SPI)/CODE/spi_state.v\n"
          ]
        },
        {
          "output_type": "stream",
          "name": "stderr",
          "text": [
            "Generating LALR tables\n",
            "WARNING: 183 shift/reduce conflicts\n"
          ]
        },
        {
          "output_type": "stream",
          "name": "stdout",
          "text": [
            "⚠️ Skipped /content/drive/MyDrive/100DaysofRTL-main/100DaysofRTL-main/Day098- Sine Wave Generator/Day100- Serial Port Interface (SPI)/CODE/spi_state.v due to error: 'IfStatement' object has no attribute 'then_stmt'\n",
            "📂 Parsing: /content/drive/MyDrive/100DaysofRTL-main/100DaysofRTL-main/Day098- Sine Wave Generator/Day097- Car Parking Management System/car_parking_management_system.v\n"
          ]
        },
        {
          "output_type": "stream",
          "name": "stderr",
          "text": [
            "Generating LALR tables\n",
            "WARNING: 183 shift/reduce conflicts\n"
          ]
        },
        {
          "output_type": "stream",
          "name": "stdout",
          "text": [
            "⚠️ Skipped /content/drive/MyDrive/100DaysofRTL-main/100DaysofRTL-main/Day098- Sine Wave Generator/Day097- Car Parking Management System/car_parking_management_system.v due to error: 'IfStatement' object has no attribute 'then_stmt'\n",
            "📂 Parsing: /content/drive/MyDrive/100DaysofRTL-main/100DaysofRTL-main/Day098- Sine Wave Generator/CODE/mux_16.v\n"
          ]
        },
        {
          "output_type": "stream",
          "name": "stderr",
          "text": [
            "Generating LALR tables\n",
            "WARNING: 183 shift/reduce conflicts\n"
          ]
        },
        {
          "output_type": "stream",
          "name": "stdout",
          "text": [
            "📂 Parsing: /content/drive/MyDrive/100DaysofRTL-main/100DaysofRTL-main/Day098- Sine Wave Generator/CODE/sine_wave_generator.v\n"
          ]
        },
        {
          "output_type": "stream",
          "name": "stderr",
          "text": [
            "Generating LALR tables\n",
            "WARNING: 183 shift/reduce conflicts\n"
          ]
        },
        {
          "output_type": "stream",
          "name": "stdout",
          "text": [
            "📂 Parsing: /content/drive/MyDrive/100DaysofRTL-main/100DaysofRTL-main/Day098- Sine Wave Generator/CODE/mux.v\n"
          ]
        },
        {
          "output_type": "stream",
          "name": "stderr",
          "text": [
            "Generating LALR tables\n",
            "WARNING: 183 shift/reduce conflicts\n"
          ]
        },
        {
          "output_type": "stream",
          "name": "stdout",
          "text": [
            "📂 Parsing: /content/drive/MyDrive/100DaysofRTL-main/100DaysofRTL-main/Day098- Sine Wave Generator/CODE/mux_16_64.v\n"
          ]
        },
        {
          "output_type": "stream",
          "name": "stderr",
          "text": [
            "Generating LALR tables\n",
            "WARNING: 183 shift/reduce conflicts\n"
          ]
        },
        {
          "output_type": "stream",
          "name": "stdout",
          "text": [
            "📂 Parsing: /content/drive/MyDrive/100DaysofRTL-main/100DaysofRTL-main/Day098- Sine Wave Generator/CODE/mux_16_8.v\n"
          ]
        },
        {
          "output_type": "stream",
          "name": "stderr",
          "text": [
            "Generating LALR tables\n",
            "WARNING: 183 shift/reduce conflicts\n"
          ]
        },
        {
          "output_type": "stream",
          "name": "stdout",
          "text": [
            "📂 Parsing: /content/drive/MyDrive/100DaysofRTL-main/100DaysofRTL-main/Day092- Highest Common Factor (HCF)/HCF.v\n"
          ]
        },
        {
          "output_type": "stream",
          "name": "stderr",
          "text": [
            "Generating LALR tables\n",
            "WARNING: 183 shift/reduce conflicts\n"
          ]
        },
        {
          "output_type": "stream",
          "name": "stdout",
          "text": [
            "📂 Parsing: /content/drive/MyDrive/100DaysofRTL-main/100DaysofRTL-main/Day091- Printing Star and Number Patterns/Star Pattern/CODE/PS1.v\n"
          ]
        },
        {
          "output_type": "stream",
          "name": "stderr",
          "text": [
            "Generating LALR tables\n",
            "WARNING: 183 shift/reduce conflicts\n"
          ]
        },
        {
          "output_type": "stream",
          "name": "stdout",
          "text": [
            "📂 Parsing: /content/drive/MyDrive/100DaysofRTL-main/100DaysofRTL-main/Day091- Printing Star and Number Patterns/Star Pattern/CODE/PS2.v\n"
          ]
        },
        {
          "output_type": "stream",
          "name": "stderr",
          "text": [
            "Generating LALR tables\n",
            "WARNING: 183 shift/reduce conflicts\n"
          ]
        },
        {
          "output_type": "stream",
          "name": "stdout",
          "text": [
            "📂 Parsing: /content/drive/MyDrive/100DaysofRTL-main/100DaysofRTL-main/Day091- Printing Star and Number Patterns/Number Pattern/CODE/PN1.v\n"
          ]
        },
        {
          "output_type": "stream",
          "name": "stderr",
          "text": [
            "Generating LALR tables\n",
            "WARNING: 183 shift/reduce conflicts\n"
          ]
        },
        {
          "output_type": "stream",
          "name": "stdout",
          "text": [
            "📂 Parsing: /content/drive/MyDrive/100DaysofRTL-main/100DaysofRTL-main/Day091- Printing Star and Number Patterns/Number Pattern/CODE/PN3.v\n"
          ]
        },
        {
          "output_type": "stream",
          "name": "stderr",
          "text": [
            "Generating LALR tables\n",
            "WARNING: 183 shift/reduce conflicts\n"
          ]
        },
        {
          "output_type": "stream",
          "name": "stdout",
          "text": [
            "📂 Parsing: /content/drive/MyDrive/100DaysofRTL-main/100DaysofRTL-main/Day091- Printing Star and Number Patterns/Number Pattern/CODE/PN2.v\n"
          ]
        },
        {
          "output_type": "stream",
          "name": "stderr",
          "text": [
            "Generating LALR tables\n",
            "WARNING: 183 shift/reduce conflicts\n"
          ]
        },
        {
          "output_type": "stream",
          "name": "stdout",
          "text": [
            "📂 Parsing: /content/drive/MyDrive/100DaysofRTL-main/100DaysofRTL-main/Day091- Printing Star and Number Patterns/Number Pattern/CODE/PN4.v\n"
          ]
        },
        {
          "output_type": "stream",
          "name": "stderr",
          "text": [
            "Generating LALR tables\n",
            "WARNING: 183 shift/reduce conflicts\n"
          ]
        },
        {
          "output_type": "stream",
          "name": "stdout",
          "text": [
            "📂 Parsing: /content/drive/MyDrive/100DaysofRTL-main/100DaysofRTL-main/Day099- Error Detection and Correction using Hamming Code Technique/CODE/hamming_encoder.v\n"
          ]
        },
        {
          "output_type": "stream",
          "name": "stderr",
          "text": [
            "Generating LALR tables\n",
            "WARNING: 183 shift/reduce conflicts\n"
          ]
        },
        {
          "output_type": "stream",
          "name": "stdout",
          "text": [
            "📂 Parsing: /content/drive/MyDrive/100DaysofRTL-main/100DaysofRTL-main/Day099- Error Detection and Correction using Hamming Code Technique/CODE/hamming_decoder.v\n"
          ]
        },
        {
          "output_type": "stream",
          "name": "stderr",
          "text": [
            "Generating LALR tables\n",
            "WARNING: 183 shift/reduce conflicts\n"
          ]
        },
        {
          "output_type": "stream",
          "name": "stdout",
          "text": [
            "📂 Parsing: /content/drive/MyDrive/100DaysofRTL-main/100DaysofRTL-main/Day093- Synchronous FIFO (First In First Out)/fifo.v\n"
          ]
        },
        {
          "output_type": "stream",
          "name": "stderr",
          "text": [
            "Generating LALR tables\n",
            "WARNING: 183 shift/reduce conflicts\n"
          ]
        },
        {
          "output_type": "stream",
          "name": "stdout",
          "text": [
            "⚠️ Skipped /content/drive/MyDrive/100DaysofRTL-main/100DaysofRTL-main/Day093- Synchronous FIFO (First In First Out)/fifo.v due to error: 'IfStatement' object has no attribute 'then_stmt'\n",
            "📂 Parsing: /content/drive/MyDrive/100DaysofRTL-main/100DaysofRTL-main/Day096- Vending Machine/vending_machine.v\n"
          ]
        },
        {
          "output_type": "stream",
          "name": "stderr",
          "text": [
            "Generating LALR tables\n",
            "WARNING: 183 shift/reduce conflicts\n"
          ]
        },
        {
          "output_type": "stream",
          "name": "stdout",
          "text": [
            "⚠️ Skipped /content/drive/MyDrive/100DaysofRTL-main/100DaysofRTL-main/Day096- Vending Machine/vending_machine.v due to error: 'IfStatement' object has no attribute 'then_stmt'\n",
            "📂 Parsing: /content/drive/MyDrive/100DaysofRTL-main/100DaysofRTL-main/Day086- Checking if Number is a Pallindrome Number/Palindrome.v\n"
          ]
        },
        {
          "output_type": "stream",
          "name": "stderr",
          "text": [
            "Generating LALR tables\n",
            "WARNING: 183 shift/reduce conflicts\n"
          ]
        },
        {
          "output_type": "stream",
          "name": "stdout",
          "text": [
            "⚠️ Skipped /content/drive/MyDrive/100DaysofRTL-main/100DaysofRTL-main/Day086- Checking if Number is a Pallindrome Number/Palindrome.v due to error: 'IfStatement' object has no attribute 'then_stmt'\n",
            "📂 Parsing: /content/drive/MyDrive/100DaysofRTL-main/100DaysofRTL-main/Day083- Arithmetic Logic Unit (ALU)/ALU.v\n"
          ]
        },
        {
          "output_type": "stream",
          "name": "stderr",
          "text": [
            "Generating LALR tables\n",
            "WARNING: 183 shift/reduce conflicts\n"
          ]
        },
        {
          "output_type": "stream",
          "name": "stdout",
          "text": [
            "📂 Parsing: /content/drive/MyDrive/100DaysofRTL-main/100DaysofRTL-main/Day084- Checking if Number is an Even or Odd Number/even_or_odd.v\n"
          ]
        },
        {
          "output_type": "stream",
          "name": "stderr",
          "text": [
            "Generating LALR tables\n",
            "WARNING: 183 shift/reduce conflicts\n"
          ]
        },
        {
          "output_type": "stream",
          "name": "stdout",
          "text": [
            "⚠️ Skipped /content/drive/MyDrive/100DaysofRTL-main/100DaysofRTL-main/Day084- Checking if Number is an Even or Odd Number/even_or_odd.v due to error: 'IfStatement' object has no attribute 'then_stmt'\n",
            "📂 Parsing: /content/drive/MyDrive/100DaysofRTL-main/100DaysofRTL-main/Day081- Dual-port RAM/dual_port_ram.v\n"
          ]
        },
        {
          "output_type": "stream",
          "name": "stderr",
          "text": [
            "Generating LALR tables\n",
            "WARNING: 183 shift/reduce conflicts\n"
          ]
        },
        {
          "output_type": "stream",
          "name": "stdout",
          "text": [
            "⚠️ Skipped /content/drive/MyDrive/100DaysofRTL-main/100DaysofRTL-main/Day081- Dual-port RAM/dual_port_ram.v due to error: 'IfStatement' object has no attribute 'then_stmt'\n",
            "📂 Parsing: /content/drive/MyDrive/100DaysofRTL-main/100DaysofRTL-main/Day080- Single-port RAM/single_port_ram.v\n"
          ]
        },
        {
          "output_type": "stream",
          "name": "stderr",
          "text": [
            "Generating LALR tables\n",
            "WARNING: 183 shift/reduce conflicts\n"
          ]
        },
        {
          "output_type": "stream",
          "name": "stdout",
          "text": [
            "⚠️ Skipped /content/drive/MyDrive/100DaysofRTL-main/100DaysofRTL-main/Day080- Single-port RAM/single_port_ram.v due to error: 'IfStatement' object has no attribute 'then_stmt'\n",
            "📂 Parsing: /content/drive/MyDrive/100DaysofRTL-main/100DaysofRTL-main/Day079- Two sequence detector using FSM/fsm_101_0110.v\n"
          ]
        },
        {
          "output_type": "stream",
          "name": "stderr",
          "text": [
            "Generating LALR tables\n",
            "WARNING: 183 shift/reduce conflicts\n"
          ]
        },
        {
          "output_type": "stream",
          "name": "stdout",
          "text": [
            "⚠️ Skipped /content/drive/MyDrive/100DaysofRTL-main/100DaysofRTL-main/Day079- Two sequence detector using FSM/fsm_101_0110.v due to error: 'IfStatement' object has no attribute 'then_stmt'\n",
            "📂 Parsing: /content/drive/MyDrive/100DaysofRTL-main/100DaysofRTL-main/Day082- ROM [15 x 15]/rom.v\n"
          ]
        },
        {
          "output_type": "stream",
          "name": "stderr",
          "text": [
            "Generating LALR tables\n",
            "WARNING: 183 shift/reduce conflicts\n"
          ]
        },
        {
          "output_type": "stream",
          "name": "stdout",
          "text": [
            "⚠️ Skipped /content/drive/MyDrive/100DaysofRTL-main/100DaysofRTL-main/Day082- ROM [15 x 15]/rom.v due to error: 'IfStatement' object has no attribute 'then_stmt'\n",
            "📂 Parsing: /content/drive/MyDrive/100DaysofRTL-main/100DaysofRTL-main/Day087- Checking if Number is an Armstrong Number/armstrong.v\n"
          ]
        },
        {
          "output_type": "stream",
          "name": "stderr",
          "text": [
            "Generating LALR tables\n",
            "WARNING: 183 shift/reduce conflicts\n"
          ]
        },
        {
          "output_type": "stream",
          "name": "stdout",
          "text": [
            "⚠️ Skipped /content/drive/MyDrive/100DaysofRTL-main/100DaysofRTL-main/Day087- Checking if Number is an Armstrong Number/armstrong.v due to error: 'IfStatement' object has no attribute 'then_stmt'\n",
            "📂 Parsing: /content/drive/MyDrive/100DaysofRTL-main/100DaysofRTL-main/Day078- FSM Moore_Non-Overlapping/fsm_1011.v\n"
          ]
        },
        {
          "output_type": "stream",
          "name": "stderr",
          "text": [
            "Generating LALR tables\n",
            "WARNING: 183 shift/reduce conflicts\n"
          ]
        },
        {
          "output_type": "stream",
          "name": "stdout",
          "text": [
            "⚠️ Skipped /content/drive/MyDrive/100DaysofRTL-main/100DaysofRTL-main/Day078- FSM Moore_Non-Overlapping/fsm_1011.v due to error: 'IfStatement' object has no attribute 'then_stmt'\n",
            "📂 Parsing: /content/drive/MyDrive/100DaysofRTL-main/100DaysofRTL-main/Day071- Frequency Divider {even}/freq_div_by4.v\n"
          ]
        },
        {
          "output_type": "stream",
          "name": "stderr",
          "text": [
            "Generating LALR tables\n",
            "WARNING: 183 shift/reduce conflicts\n"
          ]
        },
        {
          "output_type": "stream",
          "name": "stdout",
          "text": [
            "⚠️ Skipped /content/drive/MyDrive/100DaysofRTL-main/100DaysofRTL-main/Day071- Frequency Divider {even}/freq_div_by4.v due to error: 'IfStatement' object has no attribute 'then_stmt'\n",
            "📂 Parsing: /content/drive/MyDrive/100DaysofRTL-main/100DaysofRTL-main/Day073- Frequency Divider {decimal}/Codes/freq_div_by1.5.v\n"
          ]
        },
        {
          "output_type": "stream",
          "name": "stderr",
          "text": [
            "Generating LALR tables\n",
            "WARNING: 183 shift/reduce conflicts\n"
          ]
        },
        {
          "output_type": "stream",
          "name": "stdout",
          "text": [
            "📂 Parsing: /content/drive/MyDrive/100DaysofRTL-main/100DaysofRTL-main/Day073- Frequency Divider {decimal}/Codes/freq_div_by3.v\n"
          ]
        },
        {
          "output_type": "stream",
          "name": "stderr",
          "text": [
            "Generating LALR tables\n",
            "WARNING: 183 shift/reduce conflicts\n"
          ]
        },
        {
          "output_type": "stream",
          "name": "stdout",
          "text": [
            "⚠️ Skipped /content/drive/MyDrive/100DaysofRTL-main/100DaysofRTL-main/Day073- Frequency Divider {decimal}/Codes/freq_div_by3.v due to error: 'IfStatement' object has no attribute 'then_stmt'\n",
            "📂 Parsing: /content/drive/MyDrive/100DaysofRTL-main/100DaysofRTL-main/Day073- Frequency Divider {decimal}/Codes/dual_edge_trig_ff.v\n"
          ]
        },
        {
          "output_type": "stream",
          "name": "stderr",
          "text": [
            "Generating LALR tables\n",
            "WARNING: 183 shift/reduce conflicts\n"
          ]
        },
        {
          "output_type": "stream",
          "name": "stdout",
          "text": [
            "⚠️ Skipped /content/drive/MyDrive/100DaysofRTL-main/100DaysofRTL-main/Day073- Frequency Divider {decimal}/Codes/dual_edge_trig_ff.v due to error: 'IfStatement' object has no attribute 'then_stmt'\n",
            "📂 Parsing: /content/drive/MyDrive/100DaysofRTL-main/100DaysofRTL-main/Day076- FSM Mealy_Non-Overlapping/fsm_11001.v\n"
          ]
        },
        {
          "output_type": "stream",
          "name": "stderr",
          "text": [
            "Generating LALR tables\n",
            "WARNING: 183 shift/reduce conflicts\n"
          ]
        },
        {
          "output_type": "stream",
          "name": "stdout",
          "text": [
            "⚠️ Skipped /content/drive/MyDrive/100DaysofRTL-main/100DaysofRTL-main/Day076- FSM Mealy_Non-Overlapping/fsm_11001.v due to error: 'IfStatement' object has no attribute 'then_stmt'\n",
            "📂 Parsing: /content/drive/MyDrive/100DaysofRTL-main/100DaysofRTL-main/Day069- Clock Phasing/clock_phase.v\n"
          ]
        },
        {
          "output_type": "stream",
          "name": "stderr",
          "text": [
            "Generating LALR tables\n",
            "WARNING: 183 shift/reduce conflicts\n"
          ]
        },
        {
          "output_type": "stream",
          "name": "stdout",
          "text": [
            "⚠️ Skipped /content/drive/MyDrive/100DaysofRTL-main/100DaysofRTL-main/Day069- Clock Phasing/clock_phase.v due to error: 'IfStatement' object has no attribute 'then_stmt'\n",
            "📂 Parsing: /content/drive/MyDrive/100DaysofRTL-main/100DaysofRTL-main/Day077- FSM Moore_Overlapping/fsm_1011.v\n"
          ]
        },
        {
          "output_type": "stream",
          "name": "stderr",
          "text": [
            "Generating LALR tables\n",
            "WARNING: 183 shift/reduce conflicts\n"
          ]
        },
        {
          "output_type": "stream",
          "name": "stdout",
          "text": [
            "⚠️ Skipped /content/drive/MyDrive/100DaysofRTL-main/100DaysofRTL-main/Day077- FSM Moore_Overlapping/fsm_1011.v due to error: 'IfStatement' object has no attribute 'then_stmt'\n",
            "📂 Parsing: /content/drive/MyDrive/100DaysofRTL-main/100DaysofRTL-main/Day072- Frequency Divider {odd}/freq_div_by5.v\n"
          ]
        },
        {
          "output_type": "stream",
          "name": "stderr",
          "text": [
            "Generating LALR tables\n",
            "WARNING: 183 shift/reduce conflicts\n"
          ]
        },
        {
          "output_type": "stream",
          "name": "stdout",
          "text": [
            "⚠️ Skipped /content/drive/MyDrive/100DaysofRTL-main/100DaysofRTL-main/Day072- Frequency Divider {odd}/freq_div_by5.v due to error: 'IfStatement' object has no attribute 'then_stmt'\n",
            "📂 Parsing: /content/drive/MyDrive/100DaysofRTL-main/100DaysofRTL-main/Day075- FSM Mealy_Overlapping/fsm_11001.v\n"
          ]
        },
        {
          "output_type": "stream",
          "name": "stderr",
          "text": [
            "Generating LALR tables\n",
            "WARNING: 183 shift/reduce conflicts\n"
          ]
        },
        {
          "output_type": "stream",
          "name": "stdout",
          "text": [
            "⚠️ Skipped /content/drive/MyDrive/100DaysofRTL-main/100DaysofRTL-main/Day075- FSM Mealy_Overlapping/fsm_11001.v due to error: 'IfStatement' object has no attribute 'then_stmt'\n",
            "📂 Parsing: /content/drive/MyDrive/100DaysofRTL-main/100DaysofRTL-main/Day070- Clock Edge Detector/clk_edge_detector.v\n"
          ]
        },
        {
          "output_type": "stream",
          "name": "stderr",
          "text": [
            "Generating LALR tables\n",
            "WARNING: 183 shift/reduce conflicts\n"
          ]
        },
        {
          "output_type": "stream",
          "name": "stdout",
          "text": [
            "📂 Parsing: /content/drive/MyDrive/100DaysofRTL-main/100DaysofRTL-main/Day074- One-HOT FSM/one_hot_fsm.v\n"
          ]
        },
        {
          "output_type": "stream",
          "name": "stderr",
          "text": [
            "Generating LALR tables\n",
            "WARNING: 183 shift/reduce conflicts\n"
          ]
        },
        {
          "output_type": "stream",
          "name": "stdout",
          "text": [
            "⚠️ Skipped /content/drive/MyDrive/100DaysofRTL-main/100DaysofRTL-main/Day074- One-HOT FSM/one_hot_fsm.v due to error: 'IfStatement' object has no attribute 'then_stmt'\n",
            "📂 Parsing: /content/drive/MyDrive/100DaysofRTL-main/100DaysofRTL-main/Day066- Ring Counter/ring_counter.v\n"
          ]
        },
        {
          "output_type": "stream",
          "name": "stderr",
          "text": [
            "Generating LALR tables\n",
            "WARNING: 183 shift/reduce conflicts\n"
          ]
        },
        {
          "output_type": "stream",
          "name": "stdout",
          "text": [
            "⚠️ Skipped /content/drive/MyDrive/100DaysofRTL-main/100DaysofRTL-main/Day066- Ring Counter/ring_counter.v due to error: 'IfStatement' object has no attribute 'then_stmt'\n",
            "📂 Parsing: /content/drive/MyDrive/100DaysofRTL-main/100DaysofRTL-main/Day067- Johnson Couter/jhonson_counter.v\n"
          ]
        },
        {
          "output_type": "stream",
          "name": "stderr",
          "text": [
            "Generating LALR tables\n",
            "WARNING: 183 shift/reduce conflicts\n"
          ]
        },
        {
          "output_type": "stream",
          "name": "stdout",
          "text": [
            "⚠️ Skipped /content/drive/MyDrive/100DaysofRTL-main/100DaysofRTL-main/Day067- Johnson Couter/jhonson_counter.v due to error: 'IfStatement' object has no attribute 'then_stmt'\n",
            "📂 Parsing: /content/drive/MyDrive/100DaysofRTL-main/100DaysofRTL-main/Day063- Mod-N Counter/mod_N_counter.v\n"
          ]
        },
        {
          "output_type": "stream",
          "name": "stderr",
          "text": [
            "Generating LALR tables\n",
            "WARNING: 183 shift/reduce conflicts\n"
          ]
        },
        {
          "output_type": "stream",
          "name": "stdout",
          "text": [
            "⚠️ Skipped /content/drive/MyDrive/100DaysofRTL-main/100DaysofRTL-main/Day063- Mod-N Counter/mod_N_counter.v due to error: 'IfStatement' object has no attribute 'then_stmt'\n",
            "📂 Parsing: /content/drive/MyDrive/100DaysofRTL-main/100DaysofRTL-main/Day061- Universal Shift Register/universal_shift_register.v\n"
          ]
        },
        {
          "output_type": "stream",
          "name": "stderr",
          "text": [
            "Generating LALR tables\n",
            "WARNING: 183 shift/reduce conflicts\n"
          ]
        },
        {
          "output_type": "stream",
          "name": "stdout",
          "text": [
            "⚠️ Skipped /content/drive/MyDrive/100DaysofRTL-main/100DaysofRTL-main/Day061- Universal Shift Register/universal_shift_register.v due to error: 'IfStatement' object has no attribute 'then_stmt'\n",
            "📂 Parsing: /content/drive/MyDrive/100DaysofRTL-main/100DaysofRTL-main/Day062- Barrel Shifter/barrel_shifter.v\n"
          ]
        },
        {
          "output_type": "stream",
          "name": "stderr",
          "text": [
            "Generating LALR tables\n",
            "WARNING: 183 shift/reduce conflicts\n"
          ]
        },
        {
          "output_type": "stream",
          "name": "stdout",
          "text": [
            "📂 Parsing: /content/drive/MyDrive/100DaysofRTL-main/100DaysofRTL-main/Day064- Specific Sequence Counter/sequence_counter.v\n"
          ]
        },
        {
          "output_type": "stream",
          "name": "stderr",
          "text": [
            "Generating LALR tables\n",
            "WARNING: 183 shift/reduce conflicts\n"
          ]
        },
        {
          "output_type": "stream",
          "name": "stdout",
          "text": [
            "⚠️ Skipped /content/drive/MyDrive/100DaysofRTL-main/100DaysofRTL-main/Day064- Specific Sequence Counter/sequence_counter.v due to error: 'IfStatement' object has no attribute 'then_stmt'\n",
            "📂 Parsing: /content/drive/MyDrive/100DaysofRTL-main/100DaysofRTL-main/Day059- Parallel in Parallel out (PIPO) Register/pipo.v\n"
          ]
        },
        {
          "output_type": "stream",
          "name": "stderr",
          "text": [
            "Generating LALR tables\n",
            "WARNING: 183 shift/reduce conflicts\n"
          ]
        },
        {
          "output_type": "stream",
          "name": "stdout",
          "text": [
            "⚠️ Skipped /content/drive/MyDrive/100DaysofRTL-main/100DaysofRTL-main/Day059- Parallel in Parallel out (PIPO) Register/pipo.v due to error: 'IfStatement' object has no attribute 'then_stmt'\n",
            "📂 Parsing: /content/drive/MyDrive/100DaysofRTL-main/100DaysofRTL-main/Day065- UpDown Counter/up_down_counter.v\n"
          ]
        },
        {
          "output_type": "stream",
          "name": "stderr",
          "text": [
            "Generating LALR tables\n",
            "WARNING: 183 shift/reduce conflicts\n"
          ]
        },
        {
          "output_type": "stream",
          "name": "stdout",
          "text": [
            "⚠️ Skipped /content/drive/MyDrive/100DaysofRTL-main/100DaysofRTL-main/Day065- UpDown Counter/up_down_counter.v due to error: 'IfStatement' object has no attribute 'then_stmt'\n",
            "📂 Parsing: /content/drive/MyDrive/100DaysofRTL-main/100DaysofRTL-main/Day060- Linear Feedback Shift Register (LFSR)/lfsr.v\n"
          ]
        },
        {
          "output_type": "stream",
          "name": "stderr",
          "text": [
            "Generating LALR tables\n",
            "WARNING: 183 shift/reduce conflicts\n"
          ]
        },
        {
          "output_type": "stream",
          "name": "stdout",
          "text": [
            "⚠️ Skipped /content/drive/MyDrive/100DaysofRTL-main/100DaysofRTL-main/Day060- Linear Feedback Shift Register (LFSR)/lfsr.v due to error: 'IfStatement' object has no attribute 'then_stmt'\n",
            "📂 Parsing: /content/drive/MyDrive/100DaysofRTL-main/100DaysofRTL-main/Day068- Gray Counter/gray_counter.v\n"
          ]
        },
        {
          "output_type": "stream",
          "name": "stderr",
          "text": [
            "Generating LALR tables\n",
            "WARNING: 183 shift/reduce conflicts\n"
          ]
        },
        {
          "output_type": "stream",
          "name": "stdout",
          "text": [
            "⚠️ Skipped /content/drive/MyDrive/100DaysofRTL-main/100DaysofRTL-main/Day068- Gray Counter/gray_counter.v due to error: 'IfStatement' object has no attribute 'then_stmt'\n",
            "📂 Parsing: /content/drive/MyDrive/100DaysofRTL-main/100DaysofRTL-main/Day058- Parallel in Serial out (PISO) Register/piso.v\n"
          ]
        },
        {
          "output_type": "stream",
          "name": "stderr",
          "text": [
            "Generating LALR tables\n",
            "WARNING: 183 shift/reduce conflicts\n"
          ]
        },
        {
          "output_type": "stream",
          "name": "stdout",
          "text": [
            "⚠️ Skipped /content/drive/MyDrive/100DaysofRTL-main/100DaysofRTL-main/Day058- Parallel in Serial out (PISO) Register/piso.v due to error: 'IfStatement' object has no attribute 'then_stmt'\n",
            "📂 Parsing: /content/drive/MyDrive/100DaysofRTL-main/100DaysofRTL-main/Day055- Dual Edge Triggered Flip Flop/dual_edge_trig_ff.v\n"
          ]
        },
        {
          "output_type": "stream",
          "name": "stderr",
          "text": [
            "Generating LALR tables\n",
            "WARNING: 183 shift/reduce conflicts\n"
          ]
        },
        {
          "output_type": "stream",
          "name": "stdout",
          "text": [
            "⚠️ Skipped /content/drive/MyDrive/100DaysofRTL-main/100DaysofRTL-main/Day055- Dual Edge Triggered Flip Flop/dual_edge_trig_ff.v due to error: 'IfStatement' object has no attribute 'then_stmt'\n",
            "📂 Parsing: /content/drive/MyDrive/100DaysofRTL-main/100DaysofRTL-main/Day051- SR flip flop using JK, D, T flip flops/Verilog code/T_flipflop.v\n"
          ]
        },
        {
          "output_type": "stream",
          "name": "stderr",
          "text": [
            "Generating LALR tables\n",
            "WARNING: 183 shift/reduce conflicts\n"
          ]
        },
        {
          "output_type": "stream",
          "name": "stdout",
          "text": [
            "⚠️ Skipped /content/drive/MyDrive/100DaysofRTL-main/100DaysofRTL-main/Day051- SR flip flop using JK, D, T flip flops/Verilog code/T_flipflop.v due to error: 'IfStatement' object has no attribute 'then_stmt'\n",
            "📂 Parsing: /content/drive/MyDrive/100DaysofRTL-main/100DaysofRTL-main/Day051- SR flip flop using JK, D, T flip flops/Verilog code/JK_flipflop.v\n"
          ]
        },
        {
          "output_type": "stream",
          "name": "stderr",
          "text": [
            "Generating LALR tables\n",
            "WARNING: 183 shift/reduce conflicts\n"
          ]
        },
        {
          "output_type": "stream",
          "name": "stdout",
          "text": [
            "⚠️ Skipped /content/drive/MyDrive/100DaysofRTL-main/100DaysofRTL-main/Day051- SR flip flop using JK, D, T flip flops/Verilog code/JK_flipflop.v due to error: 'IfStatement' object has no attribute 'then_stmt'\n",
            "📂 Parsing: /content/drive/MyDrive/100DaysofRTL-main/100DaysofRTL-main/Day051- SR flip flop using JK, D, T flip flops/Verilog code/SR_using_JK_D_T.v\n"
          ]
        },
        {
          "output_type": "stream",
          "name": "stderr",
          "text": [
            "Generating LALR tables\n",
            "WARNING: 183 shift/reduce conflicts\n"
          ]
        },
        {
          "output_type": "stream",
          "name": "stdout",
          "text": [
            "📂 Parsing: /content/drive/MyDrive/100DaysofRTL-main/100DaysofRTL-main/Day051- SR flip flop using JK, D, T flip flops/Verilog code/D_flipflop.v\n"
          ]
        },
        {
          "output_type": "stream",
          "name": "stderr",
          "text": [
            "Generating LALR tables\n",
            "WARNING: 183 shift/reduce conflicts\n"
          ]
        },
        {
          "output_type": "stream",
          "name": "stdout",
          "text": [
            "⚠️ Skipped /content/drive/MyDrive/100DaysofRTL-main/100DaysofRTL-main/Day051- SR flip flop using JK, D, T flip flops/Verilog code/D_flipflop.v due to error: 'IfStatement' object has no attribute 'then_stmt'\n",
            "📂 Parsing: /content/drive/MyDrive/100DaysofRTL-main/100DaysofRTL-main/Day054- T flip flop using SR, JK, D flip flops/Verilog code/D_flipflop.v\n"
          ]
        },
        {
          "output_type": "stream",
          "name": "stderr",
          "text": [
            "Generating LALR tables\n",
            "WARNING: 183 shift/reduce conflicts\n"
          ]
        },
        {
          "output_type": "stream",
          "name": "stdout",
          "text": [
            "⚠️ Skipped /content/drive/MyDrive/100DaysofRTL-main/100DaysofRTL-main/Day054- T flip flop using SR, JK, D flip flops/Verilog code/D_flipflop.v due to error: 'IfStatement' object has no attribute 'then_stmt'\n",
            "📂 Parsing: /content/drive/MyDrive/100DaysofRTL-main/100DaysofRTL-main/Day054- T flip flop using SR, JK, D flip flops/Verilog code/T_using_SR_JK_D.v\n"
          ]
        },
        {
          "output_type": "stream",
          "name": "stderr",
          "text": [
            "Generating LALR tables\n",
            "WARNING: 183 shift/reduce conflicts\n"
          ]
        },
        {
          "output_type": "stream",
          "name": "stdout",
          "text": [
            "📂 Parsing: /content/drive/MyDrive/100DaysofRTL-main/100DaysofRTL-main/Day054- T flip flop using SR, JK, D flip flops/Verilog code/SR_flipflop.v\n"
          ]
        },
        {
          "output_type": "stream",
          "name": "stderr",
          "text": [
            "Generating LALR tables\n",
            "WARNING: 183 shift/reduce conflicts\n"
          ]
        },
        {
          "output_type": "stream",
          "name": "stdout",
          "text": [
            "⚠️ Skipped /content/drive/MyDrive/100DaysofRTL-main/100DaysofRTL-main/Day054- T flip flop using SR, JK, D flip flops/Verilog code/SR_flipflop.v due to error: 'IfStatement' object has no attribute 'then_stmt'\n",
            "📂 Parsing: /content/drive/MyDrive/100DaysofRTL-main/100DaysofRTL-main/Day054- T flip flop using SR, JK, D flip flops/Verilog code/JK_flipflop.v\n"
          ]
        },
        {
          "output_type": "stream",
          "name": "stderr",
          "text": [
            "Generating LALR tables\n",
            "WARNING: 183 shift/reduce conflicts\n"
          ]
        },
        {
          "output_type": "stream",
          "name": "stdout",
          "text": [
            "⚠️ Skipped /content/drive/MyDrive/100DaysofRTL-main/100DaysofRTL-main/Day054- T flip flop using SR, JK, D flip flops/Verilog code/JK_flipflop.v due to error: 'IfStatement' object has no attribute 'then_stmt'\n",
            "📂 Parsing: /content/drive/MyDrive/100DaysofRTL-main/100DaysofRTL-main/Day053- D flip flop using SR, JK, T flip flops/Verilog code/D_using_SR_JK_T.v\n"
          ]
        },
        {
          "output_type": "stream",
          "name": "stderr",
          "text": [
            "Generating LALR tables\n",
            "WARNING: 183 shift/reduce conflicts\n"
          ]
        },
        {
          "output_type": "stream",
          "name": "stdout",
          "text": [
            "📂 Parsing: /content/drive/MyDrive/100DaysofRTL-main/100DaysofRTL-main/Day053- D flip flop using SR, JK, T flip flops/Verilog code/JK_flipflop.v\n"
          ]
        },
        {
          "output_type": "stream",
          "name": "stderr",
          "text": [
            "Generating LALR tables\n",
            "WARNING: 183 shift/reduce conflicts\n"
          ]
        },
        {
          "output_type": "stream",
          "name": "stdout",
          "text": [
            "⚠️ Skipped /content/drive/MyDrive/100DaysofRTL-main/100DaysofRTL-main/Day053- D flip flop using SR, JK, T flip flops/Verilog code/JK_flipflop.v due to error: 'IfStatement' object has no attribute 'then_stmt'\n",
            "📂 Parsing: /content/drive/MyDrive/100DaysofRTL-main/100DaysofRTL-main/Day053- D flip flop using SR, JK, T flip flops/Verilog code/SR_flipflop.v\n"
          ]
        },
        {
          "output_type": "stream",
          "name": "stderr",
          "text": [
            "Generating LALR tables\n",
            "WARNING: 183 shift/reduce conflicts\n"
          ]
        },
        {
          "output_type": "stream",
          "name": "stdout",
          "text": [
            "⚠️ Skipped /content/drive/MyDrive/100DaysofRTL-main/100DaysofRTL-main/Day053- D flip flop using SR, JK, T flip flops/Verilog code/SR_flipflop.v due to error: 'IfStatement' object has no attribute 'then_stmt'\n",
            "📂 Parsing: /content/drive/MyDrive/100DaysofRTL-main/100DaysofRTL-main/Day053- D flip flop using SR, JK, T flip flops/Verilog code/T_flipflop.v\n"
          ]
        },
        {
          "output_type": "stream",
          "name": "stderr",
          "text": [
            "Generating LALR tables\n",
            "WARNING: 183 shift/reduce conflicts\n"
          ]
        },
        {
          "output_type": "stream",
          "name": "stdout",
          "text": [
            "⚠️ Skipped /content/drive/MyDrive/100DaysofRTL-main/100DaysofRTL-main/Day053- D flip flop using SR, JK, T flip flops/Verilog code/T_flipflop.v due to error: 'IfStatement' object has no attribute 'then_stmt'\n",
            "📂 Parsing: /content/drive/MyDrive/100DaysofRTL-main/100DaysofRTL-main/Day056- Serial in Serial out (SISO) Register/siso.v\n"
          ]
        },
        {
          "output_type": "stream",
          "name": "stderr",
          "text": [
            "Generating LALR tables\n",
            "WARNING: 183 shift/reduce conflicts\n"
          ]
        },
        {
          "output_type": "stream",
          "name": "stdout",
          "text": [
            "⚠️ Skipped /content/drive/MyDrive/100DaysofRTL-main/100DaysofRTL-main/Day056- Serial in Serial out (SISO) Register/siso.v due to error: 'IfStatement' object has no attribute 'then_stmt'\n",
            "📂 Parsing: /content/drive/MyDrive/100DaysofRTL-main/100DaysofRTL-main/Day052- JK flip flop using SR, D, T flip flops/Verilog code/SR_flipflop.v\n"
          ]
        },
        {
          "output_type": "stream",
          "name": "stderr",
          "text": [
            "Generating LALR tables\n",
            "WARNING: 183 shift/reduce conflicts\n"
          ]
        },
        {
          "output_type": "stream",
          "name": "stdout",
          "text": [
            "⚠️ Skipped /content/drive/MyDrive/100DaysofRTL-main/100DaysofRTL-main/Day052- JK flip flop using SR, D, T flip flops/Verilog code/SR_flipflop.v due to error: 'IfStatement' object has no attribute 'then_stmt'\n",
            "📂 Parsing: /content/drive/MyDrive/100DaysofRTL-main/100DaysofRTL-main/Day052- JK flip flop using SR, D, T flip flops/Verilog code/JK_using_SR_D_T.v\n"
          ]
        },
        {
          "output_type": "stream",
          "name": "stderr",
          "text": [
            "Generating LALR tables\n",
            "WARNING: 183 shift/reduce conflicts\n"
          ]
        },
        {
          "output_type": "stream",
          "name": "stdout",
          "text": [
            "📂 Parsing: /content/drive/MyDrive/100DaysofRTL-main/100DaysofRTL-main/Day052- JK flip flop using SR, D, T flip flops/Verilog code/T_flipflop.v\n"
          ]
        },
        {
          "output_type": "stream",
          "name": "stderr",
          "text": [
            "Generating LALR tables\n",
            "WARNING: 183 shift/reduce conflicts\n"
          ]
        },
        {
          "output_type": "stream",
          "name": "stdout",
          "text": [
            "⚠️ Skipped /content/drive/MyDrive/100DaysofRTL-main/100DaysofRTL-main/Day052- JK flip flop using SR, D, T flip flops/Verilog code/T_flipflop.v due to error: 'IfStatement' object has no attribute 'then_stmt'\n",
            "📂 Parsing: /content/drive/MyDrive/100DaysofRTL-main/100DaysofRTL-main/Day052- JK flip flop using SR, D, T flip flops/Verilog code/D_flipflop.v\n"
          ]
        },
        {
          "output_type": "stream",
          "name": "stderr",
          "text": [
            "Generating LALR tables\n",
            "WARNING: 183 shift/reduce conflicts\n"
          ]
        },
        {
          "output_type": "stream",
          "name": "stdout",
          "text": [
            "⚠️ Skipped /content/drive/MyDrive/100DaysofRTL-main/100DaysofRTL-main/Day052- JK flip flop using SR, D, T flip flops/Verilog code/D_flipflop.v due to error: 'IfStatement' object has no attribute 'then_stmt'\n",
            "📂 Parsing: /content/drive/MyDrive/100DaysofRTL-main/100DaysofRTL-main/Day050- T Flip Flop/T_flipflop.v\n"
          ]
        },
        {
          "output_type": "stream",
          "name": "stderr",
          "text": [
            "Generating LALR tables\n",
            "WARNING: 183 shift/reduce conflicts\n"
          ]
        },
        {
          "output_type": "stream",
          "name": "stdout",
          "text": [
            "⚠️ Skipped /content/drive/MyDrive/100DaysofRTL-main/100DaysofRTL-main/Day050- T Flip Flop/T_flipflop.v due to error: 'IfStatement' object has no attribute 'then_stmt'\n",
            "📂 Parsing: /content/drive/MyDrive/100DaysofRTL-main/100DaysofRTL-main/Day049- D Flip Flop/D_flipflop.v\n"
          ]
        },
        {
          "output_type": "stream",
          "name": "stderr",
          "text": [
            "Generating LALR tables\n",
            "WARNING: 183 shift/reduce conflicts\n"
          ]
        },
        {
          "output_type": "stream",
          "name": "stdout",
          "text": [
            "⚠️ Skipped /content/drive/MyDrive/100DaysofRTL-main/100DaysofRTL-main/Day049- D Flip Flop/D_flipflop.v due to error: 'IfStatement' object has no attribute 'then_stmt'\n",
            "📂 Parsing: /content/drive/MyDrive/100DaysofRTL-main/100DaysofRTL-main/Day057- Serial in Parallel out (SIPO) Register/sipo.v\n"
          ]
        },
        {
          "output_type": "stream",
          "name": "stderr",
          "text": [
            "Generating LALR tables\n",
            "WARNING: 183 shift/reduce conflicts\n"
          ]
        },
        {
          "output_type": "stream",
          "name": "stdout",
          "text": [
            "⚠️ Skipped /content/drive/MyDrive/100DaysofRTL-main/100DaysofRTL-main/Day057- Serial in Parallel out (SIPO) Register/sipo.v due to error: 'IfStatement' object has no attribute 'then_stmt'\n",
            "📂 Parsing: /content/drive/MyDrive/100DaysofRTL-main/100DaysofRTL-main/Day041- BCD to Excess-3 code Converter/BCD2excess3.v\n"
          ]
        },
        {
          "output_type": "stream",
          "name": "stderr",
          "text": [
            "Generating LALR tables\n",
            "WARNING: 183 shift/reduce conflicts\n"
          ]
        },
        {
          "output_type": "stream",
          "name": "stdout",
          "text": [
            "📂 Parsing: /content/drive/MyDrive/100DaysofRTL-main/100DaysofRTL-main/Day042- BCD to 7-Segment Converter/BCD_to_7segment.v\n"
          ]
        },
        {
          "output_type": "stream",
          "name": "stderr",
          "text": [
            "Generating LALR tables\n",
            "WARNING: 183 shift/reduce conflicts\n"
          ]
        },
        {
          "output_type": "stream",
          "name": "stdout",
          "text": [
            "📂 Parsing: /content/drive/MyDrive/100DaysofRTL-main/100DaysofRTL-main/Day045- Vedic Multiplier [4×4] using [2×2]/vedic_mul_4_4.v\n"
          ]
        },
        {
          "output_type": "stream",
          "name": "stderr",
          "text": [
            "Generating LALR tables\n",
            "WARNING: 183 shift/reduce conflicts\n"
          ]
        },
        {
          "output_type": "stream",
          "name": "stdout",
          "text": [
            "📂 Parsing: /content/drive/MyDrive/100DaysofRTL-main/100DaysofRTL-main/Day044- Vedic Multiplier [2×2]/vedic_mul_2_2.v\n"
          ]
        },
        {
          "output_type": "stream",
          "name": "stderr",
          "text": [
            "Generating LALR tables\n",
            "WARNING: 183 shift/reduce conflicts\n"
          ]
        },
        {
          "output_type": "stream",
          "name": "stdout",
          "text": [
            "📂 Parsing: /content/drive/MyDrive/100DaysofRTL-main/100DaysofRTL-main/Day047- SR Latch/SR_latch.v\n"
          ]
        },
        {
          "output_type": "stream",
          "name": "stderr",
          "text": [
            "Generating LALR tables\n",
            "WARNING: 183 shift/reduce conflicts\n"
          ]
        },
        {
          "output_type": "stream",
          "name": "stdout",
          "text": [
            "⚠️ Skipped /content/drive/MyDrive/100DaysofRTL-main/100DaysofRTL-main/Day047- SR Latch/SR_latch.v due to error: 'IfStatement' object has no attribute 'then_stmt'\n",
            "📂 Parsing: /content/drive/MyDrive/100DaysofRTL-main/100DaysofRTL-main/Day040- Binary to BCD Converter/binary2bcd.v\n"
          ]
        },
        {
          "output_type": "stream",
          "name": "stderr",
          "text": [
            "Generating LALR tables\n",
            "WARNING: 183 shift/reduce conflicts\n"
          ]
        },
        {
          "output_type": "stream",
          "name": "stdout",
          "text": [
            "📂 Parsing: /content/drive/MyDrive/100DaysofRTL-main/100DaysofRTL-main/Day039- Binary to 2's Complement Converter/complement_2s.v\n"
          ]
        },
        {
          "output_type": "stream",
          "name": "stderr",
          "text": [
            "Generating LALR tables\n",
            "WARNING: 183 shift/reduce conflicts\n"
          ]
        },
        {
          "output_type": "stream",
          "name": "stdout",
          "text": [
            "📂 Parsing: /content/drive/MyDrive/100DaysofRTL-main/100DaysofRTL-main/Day048- JK Flip Flop/JK_flipflop.v\n"
          ]
        },
        {
          "output_type": "stream",
          "name": "stderr",
          "text": [
            "Generating LALR tables\n",
            "WARNING: 183 shift/reduce conflicts\n"
          ]
        },
        {
          "output_type": "stream",
          "name": "stdout",
          "text": [
            "⚠️ Skipped /content/drive/MyDrive/100DaysofRTL-main/100DaysofRTL-main/Day048- JK Flip Flop/JK_flipflop.v due to error: 'IfStatement' object has no attribute 'then_stmt'\n",
            "📂 Parsing: /content/drive/MyDrive/100DaysofRTL-main/100DaysofRTL-main/Day046- Asynchronous and Synchronous Reset/synchronous_asynchronous_reset.v\n"
          ]
        },
        {
          "output_type": "stream",
          "name": "stderr",
          "text": [
            "Generating LALR tables\n",
            "WARNING: 183 shift/reduce conflicts\n"
          ]
        },
        {
          "output_type": "stream",
          "name": "stdout",
          "text": [
            "⚠️ Skipped /content/drive/MyDrive/100DaysofRTL-main/100DaysofRTL-main/Day046- Asynchronous and Synchronous Reset/synchronous_asynchronous_reset.v due to error: 'IfStatement' object has no attribute 'then_stmt'\n",
            "📂 Parsing: /content/drive/MyDrive/100DaysofRTL-main/100DaysofRTL-main/Day043- Booth's Multiplication Algorithm/booth_algorithm.v\n"
          ]
        },
        {
          "output_type": "stream",
          "name": "stderr",
          "text": [
            "Generating LALR tables\n",
            "WARNING: 183 shift/reduce conflicts\n"
          ]
        },
        {
          "output_type": "stream",
          "name": "stdout",
          "text": [
            "📂 Parsing: /content/drive/MyDrive/100DaysofRTL-main/100DaysofRTL-main/Day031- Decoder [3x8]/decoder_3_8.v\n"
          ]
        },
        {
          "output_type": "stream",
          "name": "stderr",
          "text": [
            "Generating LALR tables\n",
            "WARNING: 183 shift/reduce conflicts\n"
          ]
        },
        {
          "output_type": "stream",
          "name": "stdout",
          "text": [
            "📂 Parsing: /content/drive/MyDrive/100DaysofRTL-main/100DaysofRTL-main/Day037- Binary to Gray code Converter/binary2gray.v\n"
          ]
        },
        {
          "output_type": "stream",
          "name": "stderr",
          "text": [
            "Generating LALR tables\n",
            "WARNING: 183 shift/reduce conflicts\n"
          ]
        },
        {
          "output_type": "stream",
          "name": "stdout",
          "text": [
            "📂 Parsing: /content/drive/MyDrive/100DaysofRTL-main/100DaysofRTL-main/Day035- N bit number Square [N -- N^2]/n_bit_square.v\n"
          ]
        },
        {
          "output_type": "stream",
          "name": "stderr",
          "text": [
            "Generating LALR tables\n",
            "WARNING: 183 shift/reduce conflicts\n"
          ]
        },
        {
          "output_type": "stream",
          "name": "stdout",
          "text": [
            "📂 Parsing: /content/drive/MyDrive/100DaysofRTL-main/100DaysofRTL-main/Day034- Special Logic Gates using Decoder/decoder_xor_xnor.v\n"
          ]
        },
        {
          "output_type": "stream",
          "name": "stderr",
          "text": [
            "Generating LALR tables\n",
            "WARNING: 183 shift/reduce conflicts\n"
          ]
        },
        {
          "output_type": "stream",
          "name": "stdout",
          "text": [
            "📂 Parsing: /content/drive/MyDrive/100DaysofRTL-main/100DaysofRTL-main/Day036- Input Majority Circuit [7 input]/majority_input.v\n"
          ]
        },
        {
          "output_type": "stream",
          "name": "stderr",
          "text": [
            "Generating LALR tables\n",
            "WARNING: 183 shift/reduce conflicts\n"
          ]
        },
        {
          "output_type": "stream",
          "name": "stdout",
          "text": [
            "📂 Parsing: /content/drive/MyDrive/100DaysofRTL-main/100DaysofRTL-main/Day033- Universal Logic Gates using Decoder/NOR gate/decoder_nor.v\n"
          ]
        },
        {
          "output_type": "stream",
          "name": "stderr",
          "text": [
            "Generating LALR tables\n",
            "WARNING: 183 shift/reduce conflicts\n"
          ]
        },
        {
          "output_type": "stream",
          "name": "stdout",
          "text": [
            "📂 Parsing: /content/drive/MyDrive/100DaysofRTL-main/100DaysofRTL-main/Day033- Universal Logic Gates using Decoder/NAND gate/decoder_nand.v\n"
          ]
        },
        {
          "output_type": "stream",
          "name": "stderr",
          "text": [
            "Generating LALR tables\n",
            "WARNING: 183 shift/reduce conflicts\n"
          ]
        },
        {
          "output_type": "stream",
          "name": "stdout",
          "text": [
            "📂 Parsing: /content/drive/MyDrive/100DaysofRTL-main/100DaysofRTL-main/Day029- Encoder [8x3]/encoder_8_3.v\n"
          ]
        },
        {
          "output_type": "stream",
          "name": "stderr",
          "text": [
            "Generating LALR tables\n",
            "WARNING: 183 shift/reduce conflicts\n"
          ]
        },
        {
          "output_type": "stream",
          "name": "stdout",
          "text": [
            "⚠️ Skipped /content/drive/MyDrive/100DaysofRTL-main/100DaysofRTL-main/Day029- Encoder [8x3]/encoder_8_3.v due to error: 'IfStatement' object has no attribute 'then_stmt'\n",
            "📂 Parsing: /content/drive/MyDrive/100DaysofRTL-main/100DaysofRTL-main/Day030- Priority Encoder/priority_encoder.v\n"
          ]
        },
        {
          "output_type": "stream",
          "name": "stderr",
          "text": [
            "Generating LALR tables\n",
            "WARNING: 183 shift/reduce conflicts\n"
          ]
        },
        {
          "output_type": "stream",
          "name": "stdout",
          "text": [
            "⚠️ Skipped /content/drive/MyDrive/100DaysofRTL-main/100DaysofRTL-main/Day030- Priority Encoder/priority_encoder.v due to error: 'IfStatement' object has no attribute 'then_stmt'\n",
            "📂 Parsing: /content/drive/MyDrive/100DaysofRTL-main/100DaysofRTL-main/Day038- Gray code to Binary Converter/gray2binary.v\n"
          ]
        },
        {
          "output_type": "stream",
          "name": "stderr",
          "text": [
            "Generating LALR tables\n",
            "WARNING: 183 shift/reduce conflicts\n"
          ]
        },
        {
          "output_type": "stream",
          "name": "stdout",
          "text": [
            "📂 Parsing: /content/drive/MyDrive/100DaysofRTL-main/100DaysofRTL-main/Day032- Basic Logic Gates using Decoder/OR gate/decoder_or.v\n"
          ]
        },
        {
          "output_type": "stream",
          "name": "stderr",
          "text": [
            "Generating LALR tables\n",
            "WARNING: 183 shift/reduce conflicts\n"
          ]
        },
        {
          "output_type": "stream",
          "name": "stdout",
          "text": [
            "📂 Parsing: /content/drive/MyDrive/100DaysofRTL-main/100DaysofRTL-main/Day032- Basic Logic Gates using Decoder/NOT gate/decoder_not.v\n"
          ]
        },
        {
          "output_type": "stream",
          "name": "stderr",
          "text": [
            "Generating LALR tables\n",
            "WARNING: 183 shift/reduce conflicts\n"
          ]
        },
        {
          "output_type": "stream",
          "name": "stdout",
          "text": [
            "📂 Parsing: /content/drive/MyDrive/100DaysofRTL-main/100DaysofRTL-main/Day032- Basic Logic Gates using Decoder/AND gate/decoder_and.v\n"
          ]
        },
        {
          "output_type": "stream",
          "name": "stderr",
          "text": [
            "Generating LALR tables\n",
            "WARNING: 183 shift/reduce conflicts\n"
          ]
        },
        {
          "output_type": "stream",
          "name": "stdout",
          "text": [
            "📂 Parsing: /content/drive/MyDrive/100DaysofRTL-main/100DaysofRTL-main/Day028- Special Logic Gates using Dmux/demux_xor_xnor.v\n"
          ]
        },
        {
          "output_type": "stream",
          "name": "stderr",
          "text": [
            "Generating LALR tables\n",
            "WARNING: 183 shift/reduce conflicts\n"
          ]
        },
        {
          "output_type": "stream",
          "name": "stdout",
          "text": [
            "📂 Parsing: /content/drive/MyDrive/100DaysofRTL-main/100DaysofRTL-main/Day025- DeMultiplexer [1x8] using [1x2]/dmux_1_8.v\n"
          ]
        },
        {
          "output_type": "stream",
          "name": "stderr",
          "text": [
            "Generating LALR tables\n",
            "WARNING: 183 shift/reduce conflicts\n"
          ]
        },
        {
          "output_type": "stream",
          "name": "stdout",
          "text": [
            "📂 Parsing: /content/drive/MyDrive/100DaysofRTL-main/100DaysofRTL-main/Day021- Universal Logic Gates using Mux/gates_mux.v\n"
          ]
        },
        {
          "output_type": "stream",
          "name": "stderr",
          "text": [
            "Generating LALR tables\n",
            "WARNING: 183 shift/reduce conflicts\n"
          ]
        },
        {
          "output_type": "stream",
          "name": "stdout",
          "text": [
            "📂 Parsing: /content/drive/MyDrive/100DaysofRTL-main/100DaysofRTL-main/Day027- Universal Logic Gates using Dmux/NAND gate/demux_nand.v\n"
          ]
        },
        {
          "output_type": "stream",
          "name": "stderr",
          "text": [
            "Generating LALR tables\n",
            "WARNING: 183 shift/reduce conflicts\n"
          ]
        },
        {
          "output_type": "stream",
          "name": "stdout",
          "text": [
            "📂 Parsing: /content/drive/MyDrive/100DaysofRTL-main/100DaysofRTL-main/Day027- Universal Logic Gates using Dmux/NOR gate/demux_nor.v\n"
          ]
        },
        {
          "output_type": "stream",
          "name": "stderr",
          "text": [
            "Generating LALR tables\n",
            "WARNING: 183 shift/reduce conflicts\n"
          ]
        },
        {
          "output_type": "stream",
          "name": "stdout",
          "text": [
            "📂 Parsing: /content/drive/MyDrive/100DaysofRTL-main/100DaysofRTL-main/Day023- Full Adder using Mux/full_adder.v\n"
          ]
        },
        {
          "output_type": "stream",
          "name": "stderr",
          "text": [
            "Generating LALR tables\n",
            "WARNING: 183 shift/reduce conflicts\n"
          ]
        },
        {
          "output_type": "stream",
          "name": "stdout",
          "text": [
            "📂 Parsing: /content/drive/MyDrive/100DaysofRTL-main/100DaysofRTL-main/Day026- Basic Logic Gates using Dmux/AND gate/demux_and_gate.v\n"
          ]
        },
        {
          "output_type": "stream",
          "name": "stderr",
          "text": [
            "Generating LALR tables\n",
            "WARNING: 183 shift/reduce conflicts\n"
          ]
        },
        {
          "output_type": "stream",
          "name": "stdout",
          "text": [
            "📂 Parsing: /content/drive/MyDrive/100DaysofRTL-main/100DaysofRTL-main/Day026- Basic Logic Gates using Dmux/OR gate/demux_or_gate.v\n"
          ]
        },
        {
          "output_type": "stream",
          "name": "stderr",
          "text": [
            "Generating LALR tables\n",
            "WARNING: 183 shift/reduce conflicts\n"
          ]
        },
        {
          "output_type": "stream",
          "name": "stdout",
          "text": [
            "📂 Parsing: /content/drive/MyDrive/100DaysofRTL-main/100DaysofRTL-main/Day026- Basic Logic Gates using Dmux/NOT gate/demux_not_gate.v\n"
          ]
        },
        {
          "output_type": "stream",
          "name": "stderr",
          "text": [
            "Generating LALR tables\n",
            "WARNING: 183 shift/reduce conflicts\n"
          ]
        },
        {
          "output_type": "stream",
          "name": "stdout",
          "text": [
            "📂 Parsing: /content/drive/MyDrive/100DaysofRTL-main/100DaysofRTL-main/Day019- Multiplexer [4x1] using [2x1]/mux41using21.v\n"
          ]
        },
        {
          "output_type": "stream",
          "name": "stderr",
          "text": [
            "Generating LALR tables\n",
            "WARNING: 183 shift/reduce conflicts\n"
          ]
        },
        {
          "output_type": "stream",
          "name": "stdout",
          "text": [
            "📂 Parsing: /content/drive/MyDrive/100DaysofRTL-main/100DaysofRTL-main/Day022- Special Logic Gates using Mux/gates_mux.v\n"
          ]
        },
        {
          "output_type": "stream",
          "name": "stderr",
          "text": [
            "Generating LALR tables\n",
            "WARNING: 183 shift/reduce conflicts\n"
          ]
        },
        {
          "output_type": "stream",
          "name": "stdout",
          "text": [
            "📂 Parsing: /content/drive/MyDrive/100DaysofRTL-main/100DaysofRTL-main/Day024- DeMultiplexer [1x2]/demux_1_2.v\n"
          ]
        },
        {
          "output_type": "stream",
          "name": "stderr",
          "text": [
            "Generating LALR tables\n",
            "WARNING: 183 shift/reduce conflicts\n"
          ]
        },
        {
          "output_type": "stream",
          "name": "stdout",
          "text": [
            "📂 Parsing: /content/drive/MyDrive/100DaysofRTL-main/100DaysofRTL-main/Day020- Basic Logic Gates using Mux/gates_mux.v\n"
          ]
        },
        {
          "output_type": "stream",
          "name": "stderr",
          "text": [
            "Generating LALR tables\n",
            "WARNING: 183 shift/reduce conflicts\n"
          ]
        },
        {
          "output_type": "stream",
          "name": "stdout",
          "text": [
            "📂 Parsing: /content/drive/MyDrive/100DaysofRTL-main/100DaysofRTL-main/Day013- Carry Select Adder/carry_select.v\n"
          ]
        },
        {
          "output_type": "stream",
          "name": "stderr",
          "text": [
            "Generating LALR tables\n",
            "WARNING: 183 shift/reduce conflicts\n"
          ]
        },
        {
          "output_type": "stream",
          "name": "stdout",
          "text": [
            "📂 Parsing: /content/drive/MyDrive/100DaysofRTL-main/100DaysofRTL-main/Day011- 4 bit Adder cum Subtractor/add_sub.v\n"
          ]
        },
        {
          "output_type": "stream",
          "name": "stderr",
          "text": [
            "Generating LALR tables\n",
            "WARNING: 183 shift/reduce conflicts\n"
          ]
        },
        {
          "output_type": "stream",
          "name": "stdout",
          "text": [
            "📂 Parsing: /content/drive/MyDrive/100DaysofRTL-main/100DaysofRTL-main/Day016- 4 bit Divider/divide.v\n"
          ]
        },
        {
          "output_type": "stream",
          "name": "stderr",
          "text": [
            "Generating LALR tables\n",
            "WARNING: 183 shift/reduce conflicts\n"
          ]
        },
        {
          "output_type": "stream",
          "name": "stdout",
          "text": [
            "📂 Parsing: /content/drive/MyDrive/100DaysofRTL-main/100DaysofRTL-main/Day014- Carry Skip Adder/carry_skip_adder.v\n"
          ]
        },
        {
          "output_type": "stream",
          "name": "stderr",
          "text": [
            "Generating LALR tables\n",
            "WARNING: 183 shift/reduce conflicts\n"
          ]
        },
        {
          "output_type": "stream",
          "name": "stdout",
          "text": [
            "📂 Parsing: /content/drive/MyDrive/100DaysofRTL-main/100DaysofRTL-main/Day015- 4 bit Multiplier/multiplier.v\n"
          ]
        },
        {
          "output_type": "stream",
          "name": "stderr",
          "text": [
            "Generating LALR tables\n",
            "WARNING: 183 shift/reduce conflicts\n"
          ]
        },
        {
          "output_type": "stream",
          "name": "stdout",
          "text": [
            "⚠️ Skipped /content/drive/MyDrive/100DaysofRTL-main/100DaysofRTL-main/Day015- 4 bit Multiplier/multiplier.v due to error: 'IfStatement' object has no attribute 'then_stmt'\n",
            "📂 Parsing: /content/drive/MyDrive/100DaysofRTL-main/100DaysofRTL-main/Day018- Multiplexer [2x1]/mux_2_1.v\n"
          ]
        },
        {
          "output_type": "stream",
          "name": "stderr",
          "text": [
            "Generating LALR tables\n",
            "WARNING: 183 shift/reduce conflicts\n"
          ]
        },
        {
          "output_type": "stream",
          "name": "stdout",
          "text": [
            "📂 Parsing: /content/drive/MyDrive/100DaysofRTL-main/100DaysofRTL-main/Day009- Half Adder, Full Adder, Half Subtractor, Full Subtractor using Nand Gate/Verilog Code/fs_nand.v\n"
          ]
        },
        {
          "output_type": "stream",
          "name": "stderr",
          "text": [
            "Generating LALR tables\n",
            "WARNING: 183 shift/reduce conflicts\n"
          ]
        },
        {
          "output_type": "stream",
          "name": "stdout",
          "text": [
            "📂 Parsing: /content/drive/MyDrive/100DaysofRTL-main/100DaysofRTL-main/Day009- Half Adder, Full Adder, Half Subtractor, Full Subtractor using Nand Gate/Verilog Code/fa_nand.v\n"
          ]
        },
        {
          "output_type": "stream",
          "name": "stderr",
          "text": [
            "Generating LALR tables\n",
            "WARNING: 183 shift/reduce conflicts\n"
          ]
        },
        {
          "output_type": "stream",
          "name": "stdout",
          "text": [
            "📂 Parsing: /content/drive/MyDrive/100DaysofRTL-main/100DaysofRTL-main/Day009- Half Adder, Full Adder, Half Subtractor, Full Subtractor using Nand Gate/Verilog Code/ha_nand.v\n"
          ]
        },
        {
          "output_type": "stream",
          "name": "stderr",
          "text": [
            "Generating LALR tables\n",
            "WARNING: 183 shift/reduce conflicts\n"
          ]
        },
        {
          "output_type": "stream",
          "name": "stdout",
          "text": [
            "📂 Parsing: /content/drive/MyDrive/100DaysofRTL-main/100DaysofRTL-main/Day009- Half Adder, Full Adder, Half Subtractor, Full Subtractor using Nand Gate/Verilog Code/hs_nand.v\n"
          ]
        },
        {
          "output_type": "stream",
          "name": "stderr",
          "text": [
            "Generating LALR tables\n",
            "WARNING: 183 shift/reduce conflicts\n"
          ]
        },
        {
          "output_type": "stream",
          "name": "stdout",
          "text": [
            "📂 Parsing: /content/drive/MyDrive/100DaysofRTL-main/100DaysofRTL-main/Day010- 4 bit Parallel Adder/parallel_adder.v\n"
          ]
        },
        {
          "output_type": "stream",
          "name": "stderr",
          "text": [
            "Generating LALR tables\n",
            "WARNING: 183 shift/reduce conflicts\n"
          ]
        },
        {
          "output_type": "stream",
          "name": "stdout",
          "text": [
            "📂 Parsing: /content/drive/MyDrive/100DaysofRTL-main/100DaysofRTL-main/Day007- Half Adder & Full Adder/Verilog Code/full_adder.v\n"
          ]
        },
        {
          "output_type": "stream",
          "name": "stderr",
          "text": [
            "Generating LALR tables\n",
            "WARNING: 183 shift/reduce conflicts\n"
          ]
        },
        {
          "output_type": "stream",
          "name": "stdout",
          "text": [
            "📂 Parsing: /content/drive/MyDrive/100DaysofRTL-main/100DaysofRTL-main/Day007- Half Adder & Full Adder/Verilog Code/half_adder.v\n"
          ]
        },
        {
          "output_type": "stream",
          "name": "stderr",
          "text": [
            "Generating LALR tables\n",
            "WARNING: 183 shift/reduce conflicts\n"
          ]
        },
        {
          "output_type": "stream",
          "name": "stdout",
          "text": [
            "📂 Parsing: /content/drive/MyDrive/100DaysofRTL-main/100DaysofRTL-main/Day002- Structral Modeling/logic_gates.v\n"
          ]
        },
        {
          "output_type": "stream",
          "name": "stderr",
          "text": [
            "Generating LALR tables\n",
            "WARNING: 183 shift/reduce conflicts\n"
          ]
        },
        {
          "output_type": "stream",
          "name": "stdout",
          "text": [
            "📂 Parsing: /content/drive/MyDrive/100DaysofRTL-main/100DaysofRTL-main/Day008- Half Subtractor & Full Subtractor/Verilog code/half_subtractor.v\n"
          ]
        },
        {
          "output_type": "stream",
          "name": "stderr",
          "text": [
            "Generating LALR tables\n",
            "WARNING: 183 shift/reduce conflicts\n"
          ]
        },
        {
          "output_type": "stream",
          "name": "stdout",
          "text": [
            "📂 Parsing: /content/drive/MyDrive/100DaysofRTL-main/100DaysofRTL-main/Day008- Half Subtractor & Full Subtractor/Verilog code/full_subtractor.v\n"
          ]
        },
        {
          "output_type": "stream",
          "name": "stderr",
          "text": [
            "Generating LALR tables\n",
            "WARNING: 183 shift/reduce conflicts\n"
          ]
        },
        {
          "output_type": "stream",
          "name": "stdout",
          "text": [
            "📂 Parsing: /content/drive/MyDrive/100DaysofRTL-main/100DaysofRTL-main/Day003- Gate Modelimg/logic_gates.v\n"
          ]
        },
        {
          "output_type": "stream",
          "name": "stderr",
          "text": [
            "Generating LALR tables\n",
            "WARNING: 183 shift/reduce conflicts\n"
          ]
        },
        {
          "output_type": "stream",
          "name": "stdout",
          "text": [
            "📂 Parsing: /content/drive/MyDrive/100DaysofRTL-main/100DaysofRTL-main/Day006- Even Parity Generator and Checker/Verilog Code/even_parity_checker.v\n"
          ]
        },
        {
          "output_type": "stream",
          "name": "stderr",
          "text": [
            "Generating LALR tables\n",
            "WARNING: 183 shift/reduce conflicts\n"
          ]
        },
        {
          "output_type": "stream",
          "name": "stdout",
          "text": [
            "📂 Parsing: /content/drive/MyDrive/100DaysofRTL-main/100DaysofRTL-main/Day006- Even Parity Generator and Checker/Verilog Code/even_parity_generator.v\n"
          ]
        },
        {
          "output_type": "stream",
          "name": "stderr",
          "text": [
            "Generating LALR tables\n",
            "WARNING: 183 shift/reduce conflicts\n"
          ]
        },
        {
          "output_type": "stream",
          "name": "stdout",
          "text": [
            "📂 Parsing: /content/drive/MyDrive/100DaysofRTL-main/100DaysofRTL-main/Day001- Behavioural Modeling/logic_gates.v\n"
          ]
        },
        {
          "output_type": "stream",
          "name": "stderr",
          "text": [
            "Generating LALR tables\n",
            "WARNING: 183 shift/reduce conflicts\n"
          ]
        }
      ]
    },
    {
      "cell_type": "code",
      "source": [
        "# -------- 5. Save Final Dataset --------\n",
        "master_df.to_csv(\"full_signal_dataset.csv\", index=False)\n",
        "print(\"✅ Dataset saved: full_signal_dataset.csv\")\n",
        "print(master_df.head())"
      ],
      "metadata": {
        "colab": {
          "base_uri": "https://localhost:8080/"
        },
        "id": "-PhVRbvJ55r8",
        "outputId": "96bb48d9-2499-4492-914d-5a8b25a401ff"
      },
      "execution_count": null,
      "outputs": [
        {
          "output_type": "stream",
          "name": "stdout",
          "text": [
            "✅ Dataset saved: full_signal_dataset.csv\n",
            "  signal  fanin  fanout  is_input  is_output  depth source_file\n",
            "0    in1      0       1         1          0      0       HCF.v\n",
            "1     i1      1       0         0          1      1       HCF.v\n",
            "2    in2      0       1         1          0      0       HCF.v\n",
            "3     i2      1       0         0          1      1       HCF.v\n",
            "4      a      0       3         1          0      0       ALU.v\n"
          ]
        }
      ]
    },
    {
      "cell_type": "code",
      "source": [
        "import pandas as pd\n",
        "from sklearn.model_selection import train_test_split\n",
        "from sklearn.ensemble import RandomForestRegressor\n",
        "from sklearn.metrics import mean_absolute_error, mean_squared_error\n",
        "import numpy as np\n",
        "\n",
        "# Load your signal dataset\n",
        "df = pd.read_csv(\"full_signal_dataset.csv\")\n",
        "\n",
        "# Drop signals with missing depth (if any)\n",
        "df = df.dropna(subset=[\"depth\"])\n",
        "\n",
        "# Features and Target\n",
        "X = df[[\"fanin\", \"fanout\", \"is_input\", \"is_output\"]]\n",
        "y = df[\"depth\"]"
      ],
      "metadata": {
        "id": "Dj4UFkIm-BGI"
      },
      "execution_count": null,
      "outputs": []
    },
    {
      "cell_type": "code",
      "source": [
        "# Split the dataset\n",
        "X_train, X_test, y_train, y_test = train_test_split(X, y, test_size=0.2, random_state=42)\n",
        "\n",
        "# Initialize and train the model\n",
        "model = RandomForestRegressor(n_estimators=100, random_state=42)\n",
        "model.fit(X_train, y_train)\n",
        "\n",
        "# Predict\n",
        "y_pred = model.predict(X_test)\n",
        "\n",
        "# Evaluate\n",
        "mae = mean_absolute_error(y_test, y_pred)\n",
        "rmse = np.sqrt(mean_squared_error(y_test, y_pred))\n",
        "print(f\"📊 MAE: {mae:.4f}\")\n",
        "print(f\"📉 RMSE: {rmse:.4f}\")"
      ],
      "metadata": {
        "colab": {
          "base_uri": "https://localhost:8080/"
        },
        "id": "YcEEOdt3-I6P",
        "outputId": "0ba43317-5987-467c-efbd-c82a40ddbc14"
      },
      "execution_count": null,
      "outputs": [
        {
          "output_type": "stream",
          "name": "stdout",
          "text": [
            "📊 MAE: 0.1250\n",
            "📉 RMSE: 0.2579\n"
          ]
        }
      ]
    },
    {
      "cell_type": "code",
      "source": [
        "# Example: Signal with fanin=3, fanout=1, not input, not output\n",
        "sample_signal = pd.DataFrame([[3, 1, 0, 0]], columns=[\"fanin\", \"fanout\", \"is_input\", \"is_output\"])\n",
        "\n",
        "predicted_depth = model.predict(sample_signal)\n",
        "print(f\"🔮 Predicted Combinational Depth: {predicted_depth[0]:.2f}\")"
      ],
      "metadata": {
        "colab": {
          "base_uri": "https://localhost:8080/"
        },
        "id": "tfEnf4mR-S7p",
        "outputId": "8169aa9d-87a5-424f-93fb-c9556960130b"
      },
      "execution_count": null,
      "outputs": [
        {
          "output_type": "stream",
          "name": "stdout",
          "text": [
            "🔮 Predicted Combinational Depth: 0.95\n"
          ]
        }
      ]
    },
    {
      "cell_type": "code",
      "source": [
        "import matplotlib.pyplot as plt\n",
        "\n",
        "feature_names = [\"fanin\", \"fanout\", \"is_input\", \"is_output\"]\n",
        "importances = model.feature_importances_\n",
        "\n",
        "plt.figure(figsize=(6, 4))\n",
        "plt.barh(feature_names, importances, color='skyblue')\n",
        "plt.xlabel(\"Importance\")\n",
        "plt.title(\"📊 Feature Importance\")\n",
        "plt.grid(True)\n",
        "plt.show()"
      ],
      "metadata": {
        "id": "bhg2_Q3l-YOA",
        "outputId": "4b335734-6978-4958-c029-3cbb9d24d77e",
        "colab": {
          "base_uri": "https://localhost:8080/",
          "height": 445
        }
      },
      "execution_count": null,
      "outputs": [
        {
          "output_type": "stream",
          "name": "stderr",
          "text": [
            "/usr/local/lib/python3.11/dist-packages/IPython/core/pylabtools.py:151: UserWarning: Glyph 128202 (\\N{BAR CHART}) missing from font(s) DejaVu Sans.\n",
            "  fig.canvas.print_figure(bytes_io, **kw)\n"
          ]
        },
        {
          "output_type": "display_data",
          "data": {
            "text/plain": [
              "<Figure size 600x400 with 1 Axes>"
            ],
            "image/png": "[encoded data removed]"
          },
          "metadata": {}
        }
      ]
    }
  ],
  "metadata": {
    "accelerator": "GPU",
    "colab": {
      "gpuType": "T4",
      "provenance": [],
      "include_colab_link": true
    },
    "kernelspec": {
      "display_name": "Python 3",
      "name": "python3"
    },
    "language_info": {
      "name": "python"
    }
  },
  "nbformat": 4,
  "nbformat_minor": 0
}